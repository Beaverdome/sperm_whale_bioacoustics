{
 "cells": [
  {
   "cell_type": "code",
   "execution_count": null,
   "metadata": {},
   "outputs": [],
   "source": [
    "#hide\n",
    "from your_lib.core import *"
   ]
  },
  {
   "cell_type": "markdown",
   "metadata": {},
   "source": [
    "# This repository is a Work In Progress!"
   ]
  },
  {
   "cell_type": "markdown",
   "metadata": {},
   "source": [
    "This repository builds on the work in [Deep Machine Learning Techniques for the Detection and Classification of Sperm Whale Bioacoustics](https://www.nature.com/articles/s41598-019-48909-4), a fascinating paper by Peter C. Bermant, Michael M. Bronstein, Robert J. Wood, Shane Gero & David F. Gruber.\n",
    "\n",
    "The purpose of the repository is to:\n",
    "* reproduce the RNN experiments, providing executable code with accompanying explanation to allow others to leverage these novel techniques on their data\n",
    "* identify whether architectural changes and advanced training schedules (1cycle policy) could alleviate the need for the cumbersome pretraining step\n",
    "* experiment with and report results of using Random Forest instead of the RNN, a model that can be trained to good effects without specialized deep learning knowledge, is not prone to overfitting, that can be trained without the need of a GPU and that lends itself very well to interpetation\n",
    "\n",
    "Above all, the goal of the repository is to provide an introduction to the world of marine biology and modern machine learning techniques."
   ]
  }
 ],
 "metadata": {
  "kernelspec": {
   "display_name": "Python 3",
   "language": "python",
   "name": "python3"
  },
  "language_info": {
   "codemirror_mode": {
    "name": "ipython",
    "version": 3
   },
   "file_extension": ".py",
   "mimetype": "text/x-python",
   "name": "python",
   "nbconvert_exporter": "python",
   "pygments_lexer": "ipython3",
   "version": "3.7.6"
  }
 },
 "nbformat": 4,
 "nbformat_minor": 2
}
