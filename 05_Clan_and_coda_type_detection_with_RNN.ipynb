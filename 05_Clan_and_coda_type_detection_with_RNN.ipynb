{
 "cells": [
  {
   "cell_type": "markdown",
   "metadata": {},
   "source": [
    "# Clan and coda type detection with RNN\n",
    "\n",
    "> results with and without pretraining, evaluating a simpler architecture"
   ]
  },
  {
   "cell_type": "markdown",
   "metadata": {},
   "source": [
    "## Clan detection"
   ]
  },
  {
   "cell_type": "code",
   "execution_count": 1,
   "metadata": {},
   "outputs": [],
   "source": [
    "from sperm_whale_bioacoustics.data import *\n",
    "from sperm_whale_bioacoustics import model_pretrain\n",
    "\n",
    "from fastai2.basics import *\n",
    "from fastai2.learner import *\n",
    "from fastai2.callback.all import *"
   ]
  },
  {
   "cell_type": "markdown",
   "metadata": {},
   "source": [
    "Let's load the pretrained model"
   ]
  },
  {
   "cell_type": "code",
   "execution_count": 2,
   "metadata": {},
   "outputs": [],
   "source": [
    "dls = datasets_clan.dataloaders(bs = 128)\n",
    "learn = Learner(dls, model_pretrain.Model())\n",
    "if Path('models/pretrained.pth').exists(): learn.load('pretrained'); # to accomodate the CI pipeline on github"
   ]
  },
  {
   "cell_type": "markdown",
   "metadata": {},
   "source": [
    "Let's freeze the first layer."
   ]
  },
  {
   "cell_type": "code",
   "execution_count": 3,
   "metadata": {},
   "outputs": [
    {
     "data": {
      "text/plain": [
       "LSTM(1, 256, batch_first=True)"
      ]
     },
     "execution_count": 3,
     "metadata": {},
     "output_type": "execute_result"
    }
   ],
   "source": [
    "learn.model.lstm1.requires_grad_(False)"
   ]
  },
  {
   "cell_type": "markdown",
   "metadata": {},
   "source": [
    "We can manipulate the model in place."
   ]
  },
  {
   "cell_type": "code",
   "execution_count": 4,
   "metadata": {},
   "outputs": [],
   "source": [
    "learn.model.lstm2.reset_parameters()\n",
    "learn.model.lin.reset_parameters()"
   ]
  },
  {
   "cell_type": "code",
   "execution_count": 5,
   "metadata": {},
   "outputs": [],
   "source": [
    "learn.loss_func = BCEWithLogitsLossFlat()"
   ]
  },
  {
   "cell_type": "code",
   "execution_count": 6,
   "metadata": {},
   "outputs": [
    {
     "data": {
      "text/plain": [
       "Model(\n",
       "  (lstm1): LSTM(1, 256, batch_first=True)\n",
       "  (lstm2): LSTM(256, 256, batch_first=True)\n",
       "  (lin): Linear(in_features=256, out_features=1, bias=True)\n",
       ")"
      ]
     },
     "execution_count": 6,
     "metadata": {},
     "output_type": "execute_result"
    }
   ],
   "source": [
    "learn.model.cuda()"
   ]
  },
  {
   "cell_type": "markdown",
   "metadata": {},
   "source": [
    "And we should be all set to train!"
   ]
  },
  {
   "cell_type": "code",
   "execution_count": 7,
   "metadata": {},
   "outputs": [
    {
     "data": {
      "text/plain": [
       "Model (Input shape: ['128 x 9'])\n",
       "================================================================\n",
       "Layer (type)         Output Shape         Param #    Trainable \n",
       "================================================================\n",
       "LSTM                 ['128 x 9 x 256', \"  265,216    False     \n",
       "________________________________________________________________\n",
       "LSTM                 ['128 x 9 x 256', \"  526,336    True      \n",
       "________________________________________________________________\n",
       "Linear               128 x 1              257        True      \n",
       "________________________________________________________________\n",
       "\n",
       "Total params: 791,809\n",
       "Total trainable params: 526,593\n",
       "Total non-trainable params: 265,216\n",
       "\n",
       "Optimizer used: <function Adam at 0x7f07cc43fb90>\n",
       "Loss function: FlattenedLoss of BCEWithLogitsLoss()\n",
       "\n",
       "Model unfrozen\n",
       "\n",
       "Callbacks:\n",
       "  - TrainEvalCallback\n",
       "  - Recorder\n",
       "  - ProgressCallback"
      ]
     },
     "execution_count": 7,
     "metadata": {},
     "output_type": "execute_result"
    }
   ],
   "source": [
    "learn.summary()"
   ]
  },
  {
   "cell_type": "code",
   "execution_count": 8,
   "metadata": {},
   "outputs": [
    {
     "data": {
      "text/html": [],
      "text/plain": [
       "<IPython.core.display.HTML object>"
      ]
     },
     "metadata": {},
     "output_type": "display_data"
    },
    {
     "data": {
      "text/plain": [
       "(0.33113112449646, 0.2089296132326126)"
      ]
     },
     "execution_count": 8,
     "metadata": {},
     "output_type": "execute_result"
    },
    {
     "data": {
      "image/png": "[encoded data removed]",
      "text/plain": [
       "<Figure size 432x288 with 1 Axes>"
      ]
     },
     "metadata": {
      "needs_background": "light"
     },
     "output_type": "display_data"
    }
   ],
   "source": [
    "learn.lr_find()"
   ]
  },
  {
   "cell_type": "code",
   "execution_count": 9,
   "metadata": {},
   "outputs": [],
   "source": [
    "learn.metrics = [accuracy_multi]"
   ]
  },
  {
   "cell_type": "code",
   "execution_count": 10,
   "metadata": {},
   "outputs": [
    {
     "data": {
      "text/html": [
       "<table border=\"1\" class=\"dataframe\">\n",
       "  <thead>\n",
       "    <tr style=\"text-align: left;\">\n",
       "      <th>epoch</th>\n",
       "      <th>train_loss</th>\n",
       "      <th>valid_loss</th>\n",
       "      <th>accuracy_multi</th>\n",
       "      <th>time</th>\n",
       "    </tr>\n",
       "  </thead>\n",
       "  <tbody>\n",
       "    <tr>\n",
       "      <td>0</td>\n",
       "      <td>0.693101</td>\n",
       "      <td>0.691377</td>\n",
       "      <td>0.500000</td>\n",
       "      <td>00:01</td>\n",
       "    </tr>\n",
       "    <tr>\n",
       "      <td>1</td>\n",
       "      <td>0.689917</td>\n",
       "      <td>0.676007</td>\n",
       "      <td>0.773684</td>\n",
       "      <td>00:00</td>\n",
       "    </tr>\n",
       "    <tr>\n",
       "      <td>2</td>\n",
       "      <td>0.674227</td>\n",
       "      <td>0.588739</td>\n",
       "      <td>0.752632</td>\n",
       "      <td>00:01</td>\n",
       "    </tr>\n",
       "    <tr>\n",
       "      <td>3</td>\n",
       "      <td>0.633185</td>\n",
       "      <td>0.479968</td>\n",
       "      <td>0.889474</td>\n",
       "      <td>00:01</td>\n",
       "    </tr>\n",
       "    <tr>\n",
       "      <td>4</td>\n",
       "      <td>0.551117</td>\n",
       "      <td>0.279344</td>\n",
       "      <td>0.921053</td>\n",
       "      <td>00:01</td>\n",
       "    </tr>\n",
       "    <tr>\n",
       "      <td>5</td>\n",
       "      <td>0.463237</td>\n",
       "      <td>0.256698</td>\n",
       "      <td>0.931579</td>\n",
       "      <td>00:01</td>\n",
       "    </tr>\n",
       "    <tr>\n",
       "      <td>6</td>\n",
       "      <td>0.391922</td>\n",
       "      <td>0.237998</td>\n",
       "      <td>0.931579</td>\n",
       "      <td>00:00</td>\n",
       "    </tr>\n",
       "    <tr>\n",
       "      <td>7</td>\n",
       "      <td>0.335008</td>\n",
       "      <td>0.223441</td>\n",
       "      <td>0.905263</td>\n",
       "      <td>00:01</td>\n",
       "    </tr>\n",
       "    <tr>\n",
       "      <td>8</td>\n",
       "      <td>0.287834</td>\n",
       "      <td>0.200860</td>\n",
       "      <td>0.921053</td>\n",
       "      <td>00:01</td>\n",
       "    </tr>\n",
       "    <tr>\n",
       "      <td>9</td>\n",
       "      <td>0.254404</td>\n",
       "      <td>0.202940</td>\n",
       "      <td>0.921053</td>\n",
       "      <td>00:00</td>\n",
       "    </tr>\n",
       "    <tr>\n",
       "      <td>10</td>\n",
       "      <td>0.227410</td>\n",
       "      <td>0.189960</td>\n",
       "      <td>0.931579</td>\n",
       "      <td>00:01</td>\n",
       "    </tr>\n",
       "    <tr>\n",
       "      <td>11</td>\n",
       "      <td>0.205059</td>\n",
       "      <td>0.191279</td>\n",
       "      <td>0.931579</td>\n",
       "      <td>00:01</td>\n",
       "    </tr>\n",
       "    <tr>\n",
       "      <td>12</td>\n",
       "      <td>0.186766</td>\n",
       "      <td>0.180308</td>\n",
       "      <td>0.931579</td>\n",
       "      <td>00:01</td>\n",
       "    </tr>\n",
       "    <tr>\n",
       "      <td>13</td>\n",
       "      <td>0.172343</td>\n",
       "      <td>0.179979</td>\n",
       "      <td>0.931579</td>\n",
       "      <td>00:01</td>\n",
       "    </tr>\n",
       "    <tr>\n",
       "      <td>14</td>\n",
       "      <td>0.161419</td>\n",
       "      <td>0.185683</td>\n",
       "      <td>0.931579</td>\n",
       "      <td>00:01</td>\n",
       "    </tr>\n",
       "    <tr>\n",
       "      <td>15</td>\n",
       "      <td>0.151804</td>\n",
       "      <td>0.176266</td>\n",
       "      <td>0.936842</td>\n",
       "      <td>00:01</td>\n",
       "    </tr>\n",
       "    <tr>\n",
       "      <td>16</td>\n",
       "      <td>0.144722</td>\n",
       "      <td>0.179198</td>\n",
       "      <td>0.936842</td>\n",
       "      <td>00:01</td>\n",
       "    </tr>\n",
       "    <tr>\n",
       "      <td>17</td>\n",
       "      <td>0.139412</td>\n",
       "      <td>0.178529</td>\n",
       "      <td>0.936842</td>\n",
       "      <td>00:01</td>\n",
       "    </tr>\n",
       "    <tr>\n",
       "      <td>18</td>\n",
       "      <td>0.134561</td>\n",
       "      <td>0.176548</td>\n",
       "      <td>0.936842</td>\n",
       "      <td>00:01</td>\n",
       "    </tr>\n",
       "    <tr>\n",
       "      <td>19</td>\n",
       "      <td>0.130330</td>\n",
       "      <td>0.176251</td>\n",
       "      <td>0.936842</td>\n",
       "      <td>00:00</td>\n",
       "    </tr>\n",
       "  </tbody>\n",
       "</table>"
      ],
      "text/plain": [
       "<IPython.core.display.HTML object>"
      ]
     },
     "metadata": {},
     "output_type": "display_data"
    }
   ],
   "source": [
    "learn.fit_one_cycle(20, 5e-3)"
   ]
  },
  {
   "cell_type": "markdown",
   "metadata": {},
   "source": [
    "The paper reports an accuracy of 95.3% on the clan classification task. Our 93.6% is probably an okay result. I don't believe there is much sense in tweaking the training params at this point.\n",
    "\n",
    "One thing that should be mentioned here, is that I am reporting the results on the validation set. This makes the code slightly simpler and shorter. Also, for the purposes of my inquiry, I think this is okay (my main goal is to gain better understanding of the ICI and to demonstrate the application of modern ML techniques to this data). For a rigorous scientific study, one should probably consider isolating a test set and running the verification on it, only once.\n",
    "\n",
    "Without a test set, we risk fitting hyperarameters to our validation set. For a practical discussion of the train - val - test split, I would recommend this [very informative post](https://www.fast.ai/2017/11/13/validation-sets/)."
   ]
  },
  {
   "cell_type": "markdown",
   "metadata": {},
   "source": [
    "### Does pretraining help?"
   ]
  },
  {
   "cell_type": "markdown",
   "metadata": {},
   "source": [
    "Pretraining is a very useful technique, in many cases transfer learning is the only path to good results. Here, I am genuinely curious if the pretraining help. If it should help, that would be a very interesting finding.\n",
    "\n",
    "Let's put this hypothesis to a test."
   ]
  },
  {
   "cell_type": "code",
   "execution_count": 14,
   "metadata": {},
   "outputs": [],
   "source": [
    "learn = Learner(\n",
    "    dls,\n",
    "    model_pretrain.Model(),\n",
    "    metrics=[accuracy_multi],\n",
    "    loss_func=BCEWithLogitsLossFlat()\n",
    ")"
   ]
  },
  {
   "cell_type": "markdown",
   "metadata": {},
   "source": [
    "We don't load the weights nor do we modify the architecture"
   ]
  },
  {
   "cell_type": "code",
   "execution_count": 15,
   "metadata": {},
   "outputs": [
    {
     "data": {
      "text/html": [],
      "text/plain": [
       "<IPython.core.display.HTML object>"
      ]
     },
     "metadata": {},
     "output_type": "display_data"
    },
    {
     "data": {
      "text/plain": [
       "(#2) [0.6932151317596436,0.5]"
      ]
     },
     "execution_count": 15,
     "metadata": {},
     "output_type": "execute_result"
    }
   ],
   "source": [
    "learn.validate()"
   ]
  },
  {
   "cell_type": "markdown",
   "metadata": {},
   "source": [
    "Let's train with the same settings as before."
   ]
  },
  {
   "cell_type": "code",
   "execution_count": 16,
   "metadata": {},
   "outputs": [
    {
     "data": {
      "text/html": [
       "<table border=\"1\" class=\"dataframe\">\n",
       "  <thead>\n",
       "    <tr style=\"text-align: left;\">\n",
       "      <th>epoch</th>\n",
       "      <th>train_loss</th>\n",
       "      <th>valid_loss</th>\n",
       "      <th>accuracy_multi</th>\n",
       "      <th>time</th>\n",
       "    </tr>\n",
       "  </thead>\n",
       "  <tbody>\n",
       "    <tr>\n",
       "      <td>0</td>\n",
       "      <td>0.693099</td>\n",
       "      <td>0.692973</td>\n",
       "      <td>0.500000</td>\n",
       "      <td>00:01</td>\n",
       "    </tr>\n",
       "    <tr>\n",
       "      <td>1</td>\n",
       "      <td>0.692972</td>\n",
       "      <td>0.692260</td>\n",
       "      <td>0.757895</td>\n",
       "      <td>00:01</td>\n",
       "    </tr>\n",
       "    <tr>\n",
       "      <td>2</td>\n",
       "      <td>0.692486</td>\n",
       "      <td>0.687826</td>\n",
       "      <td>0.736842</td>\n",
       "      <td>00:01</td>\n",
       "    </tr>\n",
       "    <tr>\n",
       "      <td>3</td>\n",
       "      <td>0.687545</td>\n",
       "      <td>0.652679</td>\n",
       "      <td>0.652632</td>\n",
       "      <td>00:01</td>\n",
       "    </tr>\n",
       "    <tr>\n",
       "      <td>4</td>\n",
       "      <td>0.671638</td>\n",
       "      <td>0.588509</td>\n",
       "      <td>0.710526</td>\n",
       "      <td>00:01</td>\n",
       "    </tr>\n",
       "    <tr>\n",
       "      <td>5</td>\n",
       "      <td>0.635740</td>\n",
       "      <td>0.441967</td>\n",
       "      <td>0.868421</td>\n",
       "      <td>00:01</td>\n",
       "    </tr>\n",
       "    <tr>\n",
       "      <td>6</td>\n",
       "      <td>0.565996</td>\n",
       "      <td>0.321611</td>\n",
       "      <td>0.921053</td>\n",
       "      <td>00:01</td>\n",
       "    </tr>\n",
       "    <tr>\n",
       "      <td>7</td>\n",
       "      <td>0.484575</td>\n",
       "      <td>0.292535</td>\n",
       "      <td>0.878947</td>\n",
       "      <td>00:01</td>\n",
       "    </tr>\n",
       "    <tr>\n",
       "      <td>8</td>\n",
       "      <td>0.417169</td>\n",
       "      <td>0.246713</td>\n",
       "      <td>0.915789</td>\n",
       "      <td>00:01</td>\n",
       "    </tr>\n",
       "    <tr>\n",
       "      <td>9</td>\n",
       "      <td>0.356033</td>\n",
       "      <td>0.215033</td>\n",
       "      <td>0.926316</td>\n",
       "      <td>00:01</td>\n",
       "    </tr>\n",
       "    <tr>\n",
       "      <td>10</td>\n",
       "      <td>0.305421</td>\n",
       "      <td>0.180225</td>\n",
       "      <td>0.931579</td>\n",
       "      <td>00:01</td>\n",
       "    </tr>\n",
       "    <tr>\n",
       "      <td>11</td>\n",
       "      <td>0.264068</td>\n",
       "      <td>0.179078</td>\n",
       "      <td>0.931579</td>\n",
       "      <td>00:01</td>\n",
       "    </tr>\n",
       "    <tr>\n",
       "      <td>12</td>\n",
       "      <td>0.232114</td>\n",
       "      <td>0.176096</td>\n",
       "      <td>0.931579</td>\n",
       "      <td>00:01</td>\n",
       "    </tr>\n",
       "    <tr>\n",
       "      <td>13</td>\n",
       "      <td>0.207051</td>\n",
       "      <td>0.168313</td>\n",
       "      <td>0.936842</td>\n",
       "      <td>00:01</td>\n",
       "    </tr>\n",
       "    <tr>\n",
       "      <td>14</td>\n",
       "      <td>0.187118</td>\n",
       "      <td>0.167388</td>\n",
       "      <td>0.947368</td>\n",
       "      <td>00:01</td>\n",
       "    </tr>\n",
       "    <tr>\n",
       "      <td>15</td>\n",
       "      <td>0.172579</td>\n",
       "      <td>0.164708</td>\n",
       "      <td>0.942105</td>\n",
       "      <td>00:01</td>\n",
       "    </tr>\n",
       "    <tr>\n",
       "      <td>16</td>\n",
       "      <td>0.159790</td>\n",
       "      <td>0.174520</td>\n",
       "      <td>0.936842</td>\n",
       "      <td>00:01</td>\n",
       "    </tr>\n",
       "    <tr>\n",
       "      <td>17</td>\n",
       "      <td>0.149672</td>\n",
       "      <td>0.168237</td>\n",
       "      <td>0.936842</td>\n",
       "      <td>00:01</td>\n",
       "    </tr>\n",
       "    <tr>\n",
       "      <td>18</td>\n",
       "      <td>0.141820</td>\n",
       "      <td>0.165275</td>\n",
       "      <td>0.936842</td>\n",
       "      <td>00:01</td>\n",
       "    </tr>\n",
       "    <tr>\n",
       "      <td>19</td>\n",
       "      <td>0.135311</td>\n",
       "      <td>0.165159</td>\n",
       "      <td>0.936842</td>\n",
       "      <td>00:01</td>\n",
       "    </tr>\n",
       "  </tbody>\n",
       "</table>"
      ],
      "text/plain": [
       "<IPython.core.display.HTML object>"
      ]
     },
     "metadata": {},
     "output_type": "display_data"
    }
   ],
   "source": [
    "learn.fit_one_cycle(20, 5e-3)"
   ]
  },
  {
   "cell_type": "markdown",
   "metadata": {},
   "source": [
    "In our experiment, pretraining didn't prove helpful. "
   ]
  },
  {
   "cell_type": "markdown",
   "metadata": {},
   "source": [
    "### Would a simpler architecture work?"
   ]
  },
  {
   "cell_type": "markdown",
   "metadata": {},
   "source": [
    "A two layer RNN strikes me as a very complex model for this task. I am curious if a smaller model could do equally well. Verifying this can help us construct models in the future on similar data. "
   ]
  },
  {
   "cell_type": "code",
   "execution_count": 8,
   "metadata": {},
   "outputs": [],
   "source": [
    "class Model(Module):\n",
    "    def __init__(self):\n",
    "        self.lstm1 = nn.LSTM(input_size=1, hidden_size=256, batch_first=True)\n",
    "        self.lin = nn.Linear(256, 1)\n",
    "    def forward(self, x):\n",
    "        x = x.unsqueeze(-1).to(torch.float32)\n",
    "        h = self.lstm1(x)[0]\n",
    "        h = F.relu(h)\n",
    "        x = self.lin(h[:, -1, :])\n",
    "        return x"
   ]
  },
  {
   "cell_type": "code",
   "execution_count": 9,
   "metadata": {},
   "outputs": [],
   "source": [
    "learn = Learner(\n",
    "    dls,\n",
    "    Model(),\n",
    "    metrics=[accuracy_multi],\n",
    "    loss_func=BCEWithLogitsLossFlat()\n",
    ")"
   ]
  },
  {
   "cell_type": "code",
   "execution_count": 10,
   "metadata": {},
   "outputs": [
    {
     "data": {
      "text/html": [
       "<table border=\"1\" class=\"dataframe\">\n",
       "  <thead>\n",
       "    <tr style=\"text-align: left;\">\n",
       "      <th>epoch</th>\n",
       "      <th>train_loss</th>\n",
       "      <th>valid_loss</th>\n",
       "      <th>accuracy_multi</th>\n",
       "      <th>time</th>\n",
       "    </tr>\n",
       "  </thead>\n",
       "  <tbody>\n",
       "    <tr>\n",
       "      <td>0</td>\n",
       "      <td>0.692815</td>\n",
       "      <td>0.692256</td>\n",
       "      <td>0.500000</td>\n",
       "      <td>00:00</td>\n",
       "    </tr>\n",
       "    <tr>\n",
       "      <td>1</td>\n",
       "      <td>0.692079</td>\n",
       "      <td>0.689771</td>\n",
       "      <td>0.657895</td>\n",
       "      <td>00:00</td>\n",
       "    </tr>\n",
       "    <tr>\n",
       "      <td>2</td>\n",
       "      <td>0.690140</td>\n",
       "      <td>0.679033</td>\n",
       "      <td>0.626316</td>\n",
       "      <td>00:00</td>\n",
       "    </tr>\n",
       "    <tr>\n",
       "      <td>3</td>\n",
       "      <td>0.687375</td>\n",
       "      <td>0.669220</td>\n",
       "      <td>0.736842</td>\n",
       "      <td>00:00</td>\n",
       "    </tr>\n",
       "    <tr>\n",
       "      <td>4</td>\n",
       "      <td>0.676686</td>\n",
       "      <td>0.618742</td>\n",
       "      <td>0.726316</td>\n",
       "      <td>00:00</td>\n",
       "    </tr>\n",
       "    <tr>\n",
       "      <td>5</td>\n",
       "      <td>0.657620</td>\n",
       "      <td>0.569491</td>\n",
       "      <td>0.710526</td>\n",
       "      <td>00:00</td>\n",
       "    </tr>\n",
       "    <tr>\n",
       "      <td>6</td>\n",
       "      <td>0.627126</td>\n",
       "      <td>0.533899</td>\n",
       "      <td>0.705263</td>\n",
       "      <td>00:00</td>\n",
       "    </tr>\n",
       "    <tr>\n",
       "      <td>7</td>\n",
       "      <td>0.580894</td>\n",
       "      <td>0.355915</td>\n",
       "      <td>0.905263</td>\n",
       "      <td>00:00</td>\n",
       "    </tr>\n",
       "    <tr>\n",
       "      <td>8</td>\n",
       "      <td>0.523001</td>\n",
       "      <td>0.314599</td>\n",
       "      <td>0.926316</td>\n",
       "      <td>00:00</td>\n",
       "    </tr>\n",
       "    <tr>\n",
       "      <td>9</td>\n",
       "      <td>0.457365</td>\n",
       "      <td>0.248672</td>\n",
       "      <td>0.926316</td>\n",
       "      <td>00:00</td>\n",
       "    </tr>\n",
       "    <tr>\n",
       "      <td>10</td>\n",
       "      <td>0.403369</td>\n",
       "      <td>0.285901</td>\n",
       "      <td>0.926316</td>\n",
       "      <td>00:00</td>\n",
       "    </tr>\n",
       "    <tr>\n",
       "      <td>11</td>\n",
       "      <td>0.363228</td>\n",
       "      <td>0.227825</td>\n",
       "      <td>0.936842</td>\n",
       "      <td>00:00</td>\n",
       "    </tr>\n",
       "    <tr>\n",
       "      <td>12</td>\n",
       "      <td>0.320559</td>\n",
       "      <td>0.208255</td>\n",
       "      <td>0.921053</td>\n",
       "      <td>00:00</td>\n",
       "    </tr>\n",
       "    <tr>\n",
       "      <td>13</td>\n",
       "      <td>0.281835</td>\n",
       "      <td>0.208674</td>\n",
       "      <td>0.931579</td>\n",
       "      <td>00:00</td>\n",
       "    </tr>\n",
       "    <tr>\n",
       "      <td>14</td>\n",
       "      <td>0.251861</td>\n",
       "      <td>0.209114</td>\n",
       "      <td>0.926316</td>\n",
       "      <td>00:00</td>\n",
       "    </tr>\n",
       "    <tr>\n",
       "      <td>15</td>\n",
       "      <td>0.227318</td>\n",
       "      <td>0.190513</td>\n",
       "      <td>0.926316</td>\n",
       "      <td>00:00</td>\n",
       "    </tr>\n",
       "    <tr>\n",
       "      <td>16</td>\n",
       "      <td>0.209392</td>\n",
       "      <td>0.195393</td>\n",
       "      <td>0.931579</td>\n",
       "      <td>00:00</td>\n",
       "    </tr>\n",
       "    <tr>\n",
       "      <td>17</td>\n",
       "      <td>0.194586</td>\n",
       "      <td>0.192219</td>\n",
       "      <td>0.931579</td>\n",
       "      <td>00:00</td>\n",
       "    </tr>\n",
       "    <tr>\n",
       "      <td>18</td>\n",
       "      <td>0.181710</td>\n",
       "      <td>0.191636</td>\n",
       "      <td>0.931579</td>\n",
       "      <td>00:00</td>\n",
       "    </tr>\n",
       "    <tr>\n",
       "      <td>19</td>\n",
       "      <td>0.173130</td>\n",
       "      <td>0.191742</td>\n",
       "      <td>0.931579</td>\n",
       "      <td>00:00</td>\n",
       "    </tr>\n",
       "  </tbody>\n",
       "</table>"
      ],
      "text/plain": [
       "<IPython.core.display.HTML object>"
      ]
     },
     "metadata": {},
     "output_type": "display_data"
    }
   ],
   "source": [
    "learn.fit_one_cycle(20, 5e-3)"
   ]
  },
  {
   "cell_type": "markdown",
   "metadata": {},
   "source": [
    "A single layer RNN works just as well."
   ]
  },
  {
   "cell_type": "code",
   "execution_count": 42,
   "metadata": {},
   "outputs": [],
   "source": [
    "class Model(Module):\n",
    "    def __init__(self):\n",
    "        self.lstm1 = nn.LSTM(input_size=1, hidden_size=64, batch_first=True)\n",
    "        self.lin = nn.Linear(64, 1)\n",
    "    def forward(self, x):\n",
    "        x = x.unsqueeze(-1).to(torch.float32)\n",
    "        h = self.lstm1(x)[0]\n",
    "        h = F.relu(h)\n",
    "        x = self.lin(h[:, -1, :])\n",
    "        return x"
   ]
  },
  {
   "cell_type": "code",
   "execution_count": 43,
   "metadata": {},
   "outputs": [],
   "source": [
    "learn = Learner(\n",
    "    dls,\n",
    "    Model(),\n",
    "    metrics=[accuracy_multi],\n",
    "    loss_func=BCEWithLogitsLossFlat()\n",
    ")"
   ]
  },
  {
   "cell_type": "code",
   "execution_count": 44,
   "metadata": {},
   "outputs": [
    {
     "data": {
      "text/html": [
       "<table border=\"1\" class=\"dataframe\">\n",
       "  <thead>\n",
       "    <tr style=\"text-align: left;\">\n",
       "      <th>epoch</th>\n",
       "      <th>train_loss</th>\n",
       "      <th>valid_loss</th>\n",
       "      <th>accuracy_multi</th>\n",
       "      <th>time</th>\n",
       "    </tr>\n",
       "  </thead>\n",
       "  <tbody>\n",
       "    <tr>\n",
       "      <td>0</td>\n",
       "      <td>0.694055</td>\n",
       "      <td>0.693773</td>\n",
       "      <td>0.500000</td>\n",
       "      <td>00:00</td>\n",
       "    </tr>\n",
       "    <tr>\n",
       "      <td>1</td>\n",
       "      <td>0.693572</td>\n",
       "      <td>0.692401</td>\n",
       "      <td>0.500000</td>\n",
       "      <td>00:00</td>\n",
       "    </tr>\n",
       "    <tr>\n",
       "      <td>2</td>\n",
       "      <td>0.692691</td>\n",
       "      <td>0.689123</td>\n",
       "      <td>0.778947</td>\n",
       "      <td>00:00</td>\n",
       "    </tr>\n",
       "    <tr>\n",
       "      <td>3</td>\n",
       "      <td>0.690741</td>\n",
       "      <td>0.678053</td>\n",
       "      <td>0.600000</td>\n",
       "      <td>00:00</td>\n",
       "    </tr>\n",
       "    <tr>\n",
       "      <td>4</td>\n",
       "      <td>0.682890</td>\n",
       "      <td>0.680005</td>\n",
       "      <td>0.505263</td>\n",
       "      <td>00:00</td>\n",
       "    </tr>\n",
       "    <tr>\n",
       "      <td>5</td>\n",
       "      <td>0.670912</td>\n",
       "      <td>0.617842</td>\n",
       "      <td>0.626316</td>\n",
       "      <td>00:00</td>\n",
       "    </tr>\n",
       "    <tr>\n",
       "      <td>6</td>\n",
       "      <td>0.656362</td>\n",
       "      <td>0.585949</td>\n",
       "      <td>0.673684</td>\n",
       "      <td>00:00</td>\n",
       "    </tr>\n",
       "    <tr>\n",
       "      <td>7</td>\n",
       "      <td>0.640969</td>\n",
       "      <td>0.561313</td>\n",
       "      <td>0.768421</td>\n",
       "      <td>00:00</td>\n",
       "    </tr>\n",
       "    <tr>\n",
       "      <td>8</td>\n",
       "      <td>0.623972</td>\n",
       "      <td>0.539100</td>\n",
       "      <td>0.778947</td>\n",
       "      <td>00:00</td>\n",
       "    </tr>\n",
       "    <tr>\n",
       "      <td>9</td>\n",
       "      <td>0.602667</td>\n",
       "      <td>0.507333</td>\n",
       "      <td>0.789474</td>\n",
       "      <td>00:00</td>\n",
       "    </tr>\n",
       "    <tr>\n",
       "      <td>10</td>\n",
       "      <td>0.578550</td>\n",
       "      <td>0.466365</td>\n",
       "      <td>0.836842</td>\n",
       "      <td>00:00</td>\n",
       "    </tr>\n",
       "    <tr>\n",
       "      <td>11</td>\n",
       "      <td>0.543584</td>\n",
       "      <td>0.395027</td>\n",
       "      <td>0.915789</td>\n",
       "      <td>00:00</td>\n",
       "    </tr>\n",
       "    <tr>\n",
       "      <td>12</td>\n",
       "      <td>0.500915</td>\n",
       "      <td>0.371571</td>\n",
       "      <td>0.910526</td>\n",
       "      <td>00:00</td>\n",
       "    </tr>\n",
       "    <tr>\n",
       "      <td>13</td>\n",
       "      <td>0.459832</td>\n",
       "      <td>0.352853</td>\n",
       "      <td>0.894737</td>\n",
       "      <td>00:00</td>\n",
       "    </tr>\n",
       "    <tr>\n",
       "      <td>14</td>\n",
       "      <td>0.423719</td>\n",
       "      <td>0.319832</td>\n",
       "      <td>0.915789</td>\n",
       "      <td>00:00</td>\n",
       "    </tr>\n",
       "    <tr>\n",
       "      <td>15</td>\n",
       "      <td>0.393652</td>\n",
       "      <td>0.320621</td>\n",
       "      <td>0.905263</td>\n",
       "      <td>00:00</td>\n",
       "    </tr>\n",
       "    <tr>\n",
       "      <td>16</td>\n",
       "      <td>0.366033</td>\n",
       "      <td>0.309253</td>\n",
       "      <td>0.926316</td>\n",
       "      <td>00:00</td>\n",
       "    </tr>\n",
       "    <tr>\n",
       "      <td>17</td>\n",
       "      <td>0.344538</td>\n",
       "      <td>0.316925</td>\n",
       "      <td>0.910526</td>\n",
       "      <td>00:00</td>\n",
       "    </tr>\n",
       "    <tr>\n",
       "      <td>18</td>\n",
       "      <td>0.327254</td>\n",
       "      <td>0.305492</td>\n",
       "      <td>0.931579</td>\n",
       "      <td>00:00</td>\n",
       "    </tr>\n",
       "    <tr>\n",
       "      <td>19</td>\n",
       "      <td>0.313459</td>\n",
       "      <td>0.307206</td>\n",
       "      <td>0.926316</td>\n",
       "      <td>00:00</td>\n",
       "    </tr>\n",
       "  </tbody>\n",
       "</table>"
      ],
      "text/plain": [
       "<IPython.core.display.HTML object>"
      ]
     },
     "metadata": {},
     "output_type": "display_data"
    }
   ],
   "source": [
    "learn.fit_one_cycle(20, 5e-3)"
   ]
  },
  {
   "cell_type": "markdown",
   "metadata": {},
   "source": [
    "Seems that dropping down to 1/4th the hidden state size (256 -> 64) we hit a limitation, where the model no longer performs as well."
   ]
  },
  {
   "cell_type": "markdown",
   "metadata": {},
   "source": [
    "## Coda type detection"
   ]
  },
  {
   "cell_type": "code",
   "execution_count": 2,
   "metadata": {},
   "outputs": [],
   "source": [
    "def get_learner():\n",
    "    dls = datasets_coda.dataloaders(bs = 128)\n",
    "    learn = Learner(dls, model_pretrain.Model())\n",
    "    if Path('models/pretrained.pth').exists(): learn.load('pretrained'); # to accomodate the CI pipeline on github\n",
    "\n",
    "    learn.model.lstm1.requires_grad_(False)\n",
    "    learn.model.lstm2.reset_parameters()\n",
    "    learn.model.lin = nn.Linear(256, dls.c)\n",
    "    learn.metrics = [accuracy]\n",
    "    return learn"
   ]
  },
  {
   "cell_type": "code",
   "execution_count": 7,
   "metadata": {},
   "outputs": [],
   "source": [
    "learn = get_learner()"
   ]
  },
  {
   "cell_type": "code",
   "execution_count": 8,
   "metadata": {},
   "outputs": [
    {
     "data": {
      "text/html": [
       "<table border=\"1\" class=\"dataframe\">\n",
       "  <thead>\n",
       "    <tr style=\"text-align: left;\">\n",
       "      <th>epoch</th>\n",
       "      <th>train_loss</th>\n",
       "      <th>valid_loss</th>\n",
       "      <th>accuracy</th>\n",
       "      <th>time</th>\n",
       "    </tr>\n",
       "  </thead>\n",
       "  <tbody>\n",
       "    <tr>\n",
       "      <td>0</td>\n",
       "      <td>2.485330</td>\n",
       "      <td>2.294498</td>\n",
       "      <td>0.446517</td>\n",
       "      <td>00:01</td>\n",
       "    </tr>\n",
       "    <tr>\n",
       "      <td>1</td>\n",
       "      <td>2.335705</td>\n",
       "      <td>2.288693</td>\n",
       "      <td>0.446517</td>\n",
       "      <td>00:01</td>\n",
       "    </tr>\n",
       "    <tr>\n",
       "      <td>2</td>\n",
       "      <td>2.304163</td>\n",
       "      <td>2.285231</td>\n",
       "      <td>0.446517</td>\n",
       "      <td>00:02</td>\n",
       "    </tr>\n",
       "    <tr>\n",
       "      <td>3</td>\n",
       "      <td>2.292490</td>\n",
       "      <td>2.282421</td>\n",
       "      <td>0.446517</td>\n",
       "      <td>00:02</td>\n",
       "    </tr>\n",
       "    <tr>\n",
       "      <td>4</td>\n",
       "      <td>2.277992</td>\n",
       "      <td>2.273564</td>\n",
       "      <td>0.446517</td>\n",
       "      <td>00:02</td>\n",
       "    </tr>\n",
       "    <tr>\n",
       "      <td>5</td>\n",
       "      <td>2.269981</td>\n",
       "      <td>2.266062</td>\n",
       "      <td>0.446517</td>\n",
       "      <td>00:01</td>\n",
       "    </tr>\n",
       "    <tr>\n",
       "      <td>6</td>\n",
       "      <td>2.265883</td>\n",
       "      <td>2.258453</td>\n",
       "      <td>0.446517</td>\n",
       "      <td>00:01</td>\n",
       "    </tr>\n",
       "    <tr>\n",
       "      <td>7</td>\n",
       "      <td>2.253694</td>\n",
       "      <td>2.251024</td>\n",
       "      <td>0.446517</td>\n",
       "      <td>00:01</td>\n",
       "    </tr>\n",
       "    <tr>\n",
       "      <td>8</td>\n",
       "      <td>2.249751</td>\n",
       "      <td>2.243055</td>\n",
       "      <td>0.446517</td>\n",
       "      <td>00:02</td>\n",
       "    </tr>\n",
       "    <tr>\n",
       "      <td>9</td>\n",
       "      <td>2.239325</td>\n",
       "      <td>2.232406</td>\n",
       "      <td>0.446517</td>\n",
       "      <td>00:02</td>\n",
       "    </tr>\n",
       "    <tr>\n",
       "      <td>10</td>\n",
       "      <td>2.226161</td>\n",
       "      <td>2.221543</td>\n",
       "      <td>0.446517</td>\n",
       "      <td>00:01</td>\n",
       "    </tr>\n",
       "    <tr>\n",
       "      <td>11</td>\n",
       "      <td>2.214585</td>\n",
       "      <td>2.210638</td>\n",
       "      <td>0.446517</td>\n",
       "      <td>00:02</td>\n",
       "    </tr>\n",
       "    <tr>\n",
       "      <td>12</td>\n",
       "      <td>2.208441</td>\n",
       "      <td>2.204063</td>\n",
       "      <td>0.446517</td>\n",
       "      <td>00:01</td>\n",
       "    </tr>\n",
       "    <tr>\n",
       "      <td>13</td>\n",
       "      <td>2.193894</td>\n",
       "      <td>2.182945</td>\n",
       "      <td>0.446517</td>\n",
       "      <td>00:01</td>\n",
       "    </tr>\n",
       "    <tr>\n",
       "      <td>14</td>\n",
       "      <td>2.182949</td>\n",
       "      <td>2.169889</td>\n",
       "      <td>0.446517</td>\n",
       "      <td>00:02</td>\n",
       "    </tr>\n",
       "    <tr>\n",
       "      <td>15</td>\n",
       "      <td>2.170223</td>\n",
       "      <td>2.158698</td>\n",
       "      <td>0.446517</td>\n",
       "      <td>00:02</td>\n",
       "    </tr>\n",
       "    <tr>\n",
       "      <td>16</td>\n",
       "      <td>2.158090</td>\n",
       "      <td>2.146476</td>\n",
       "      <td>0.446517</td>\n",
       "      <td>00:01</td>\n",
       "    </tr>\n",
       "    <tr>\n",
       "      <td>17</td>\n",
       "      <td>2.141515</td>\n",
       "      <td>2.136356</td>\n",
       "      <td>0.446517</td>\n",
       "      <td>00:01</td>\n",
       "    </tr>\n",
       "    <tr>\n",
       "      <td>18</td>\n",
       "      <td>2.134031</td>\n",
       "      <td>2.131161</td>\n",
       "      <td>0.446517</td>\n",
       "      <td>00:01</td>\n",
       "    </tr>\n",
       "    <tr>\n",
       "      <td>19</td>\n",
       "      <td>2.131196</td>\n",
       "      <td>2.121543</td>\n",
       "      <td>0.446517</td>\n",
       "      <td>00:02</td>\n",
       "    </tr>\n",
       "    <tr>\n",
       "      <td>20</td>\n",
       "      <td>2.127353</td>\n",
       "      <td>2.115347</td>\n",
       "      <td>0.446517</td>\n",
       "      <td>00:01</td>\n",
       "    </tr>\n",
       "    <tr>\n",
       "      <td>21</td>\n",
       "      <td>2.110346</td>\n",
       "      <td>2.100485</td>\n",
       "      <td>0.446517</td>\n",
       "      <td>00:01</td>\n",
       "    </tr>\n",
       "    <tr>\n",
       "      <td>22</td>\n",
       "      <td>2.104455</td>\n",
       "      <td>2.091970</td>\n",
       "      <td>0.446517</td>\n",
       "      <td>00:01</td>\n",
       "    </tr>\n",
       "    <tr>\n",
       "      <td>23</td>\n",
       "      <td>2.095030</td>\n",
       "      <td>2.085384</td>\n",
       "      <td>0.446517</td>\n",
       "      <td>00:01</td>\n",
       "    </tr>\n",
       "    <tr>\n",
       "      <td>24</td>\n",
       "      <td>2.088438</td>\n",
       "      <td>2.080912</td>\n",
       "      <td>0.446517</td>\n",
       "      <td>00:01</td>\n",
       "    </tr>\n",
       "    <tr>\n",
       "      <td>25</td>\n",
       "      <td>2.079827</td>\n",
       "      <td>2.069702</td>\n",
       "      <td>0.631841</td>\n",
       "      <td>00:02</td>\n",
       "    </tr>\n",
       "    <tr>\n",
       "      <td>26</td>\n",
       "      <td>2.077063</td>\n",
       "      <td>2.064379</td>\n",
       "      <td>0.634328</td>\n",
       "      <td>00:01</td>\n",
       "    </tr>\n",
       "    <tr>\n",
       "      <td>27</td>\n",
       "      <td>2.068421</td>\n",
       "      <td>2.061007</td>\n",
       "      <td>0.634328</td>\n",
       "      <td>00:01</td>\n",
       "    </tr>\n",
       "    <tr>\n",
       "      <td>28</td>\n",
       "      <td>2.067909</td>\n",
       "      <td>2.050121</td>\n",
       "      <td>0.633085</td>\n",
       "      <td>00:01</td>\n",
       "    </tr>\n",
       "    <tr>\n",
       "      <td>29</td>\n",
       "      <td>2.050233</td>\n",
       "      <td>2.038246</td>\n",
       "      <td>0.634328</td>\n",
       "      <td>00:02</td>\n",
       "    </tr>\n",
       "  </tbody>\n",
       "</table>"
      ],
      "text/plain": [
       "<IPython.core.display.HTML object>"
      ]
     },
     "metadata": {},
     "output_type": "display_data"
    }
   ],
   "source": [
    "learn.fit(30, 1e-3)"
   ]
  },
  {
   "cell_type": "markdown",
   "metadata": {},
   "source": [
    "The model doesn't train very well. Let's see what the culprit might be."
   ]
  },
  {
   "cell_type": "code",
   "execution_count": 9,
   "metadata": {},
   "outputs": [
    {
     "data": {
      "text/html": [],
      "text/plain": [
       "<IPython.core.display.HTML object>"
      ]
     },
     "metadata": {},
     "output_type": "display_data"
    },
    {
     "data": {
      "image/png": "[encoded data removed]",
      "text/plain": [
       "<Figure size 720x720 with 1 Axes>"
      ]
     },
     "metadata": {
      "needs_background": "light"
     },
     "output_type": "display_data"
    }
   ],
   "source": [
    "interp = ClassificationInterpretation.from_learner(learn)\n",
    "interp.plot_confusion_matrix(figsize=(12,12), dpi=60)"
   ]
  },
  {
   "cell_type": "markdown",
   "metadata": {},
   "source": [
    "The model learns to predict the two most common classes and that is it! It does so perfectly though.\n",
    "\n",
    "It will be very hard to force the model to learn anything about the less represented classes, the class imbalance is severe."
   ]
  },
  {
   "cell_type": "code",
   "execution_count": 10,
   "metadata": {},
   "outputs": [
    {
     "data": {
      "text/plain": [
       "1+1+3    3589\n",
       "5R1      1510\n",
       "5R3       642\n",
       "4R2       340\n",
       "5R2       287\n",
       "4D        219\n",
       "6i        188\n",
       "8i        178\n",
       "7D1       177\n",
       "7i        151\n",
       "9i        137\n",
       "4R1        84\n",
       "2+3        77\n",
       "1+32       72\n",
       "6R         67\n",
       "3D         61\n",
       "8R         60\n",
       "1+31       51\n",
       "9R         43\n",
       "7D2        35\n",
       "7R         23\n",
       "3R         21\n",
       "8D         20\n",
       "Name: CodaType, dtype: int64"
      ]
     },
     "execution_count": 10,
     "metadata": {},
     "output_type": "execute_result"
    }
   ],
   "source": [
    "datasets_coda.items.CodaType.value_counts()"
   ]
  },
  {
   "cell_type": "markdown",
   "metadata": {},
   "source": [
    "Our best bet at this point is probably upsampling of poorer represented classes. The paper doesn't go into details how the model was trained and the repository also doesn't contain any relevant information, as fat as I can tell.\n",
    "\n",
    "It's hard to say how the authors approached this problem, but that is not really all that important. Upsampling is a very useful and powerful technique, let's see how far we can take it.\n",
    "\n",
    "The `get_idxs` method of `DataLoaders` samples the `idxs` to be used in an epoch of training:"
   ]
  },
  {
   "cell_type": "code",
   "execution_count": 11,
   "metadata": {},
   "outputs": [
    {
     "data": {
      "text/plain": [
       "[3630, 620, 1213, 4444, 4304, 1115, 3522, 4162, 3333, 3139]"
      ]
     },
     "execution_count": 11,
     "metadata": {},
     "output_type": "execute_result"
    }
   ],
   "source": [
    "learn.dls.get_idxs()[:10]"
   ]
  },
  {
   "cell_type": "code",
   "execution_count": 12,
   "metadata": {},
   "outputs": [
    {
     "data": {
      "text/plain": [
       "7228"
      ]
     },
     "execution_count": 12,
     "metadata": {},
     "output_type": "execute_result"
    }
   ],
   "source": [
    "len(learn.dls.get_idxs())"
   ]
  },
  {
   "cell_type": "markdown",
   "metadata": {},
   "source": [
    "Let's modify it to return a more equal number of idxs corresponding to each of the classes. Let's calculate the weights we will use for sampling."
   ]
  },
  {
   "cell_type": "code",
   "execution_count": 13,
   "metadata": {},
   "outputs": [],
   "source": [
    "df = pd.DataFrame(1 / learn.dls.items.CodaType.value_counts())\n",
    "weights = learn.dls.items.CodaType.apply(lambda x: df.to_dict()['CodaType'][x])"
   ]
  },
  {
   "cell_type": "code",
   "execution_count": 14,
   "metadata": {},
   "outputs": [
    {
     "data": {
      "text/plain": [
       "6i       475\n",
       "1+1+3    469\n",
       "9R       469\n",
       "7D1      468\n",
       "4R2      463\n",
       "4D       462\n",
       "4R1      449\n",
       "3D       443\n",
       "1+32     440\n",
       "6R       438\n",
       "3R       437\n",
       "5R3      434\n",
       "8D       433\n",
       "9i       428\n",
       "7D2      428\n",
       "7R       427\n",
       "1+31     414\n",
       "5R2      414\n",
       "8R       413\n",
       "5R1      410\n",
       "7i       402\n",
       "8i       395\n",
       "2+3      389\n",
       "Name: CodaType, dtype: int64"
      ]
     },
     "execution_count": 14,
     "metadata": {},
     "output_type": "execute_result"
    }
   ],
   "source": [
    "learn.dls.train.items.sample(n=10000, weights=weights, replace=True).CodaType.value_counts()"
   ]
  },
  {
   "cell_type": "markdown",
   "metadata": {},
   "source": [
    "This is looking much better. Let's now pull all of this together."
   ]
  },
  {
   "cell_type": "code",
   "execution_count": 2,
   "metadata": {},
   "outputs": [],
   "source": [
    "def sample_epoch(self):\n",
    "    df = pd.DataFrame(1 / self.items.CodaType.value_counts())\n",
    "    weights = self.items.CodaType.apply(lambda x: df.to_dict()['CodaType'][x])\n",
    "    self.n = 100_000 # going for bigger epochs as this will require quite a bit of training\n",
    "    upsampled_idxs = self.items.sample(n=self.n, weights=weights, replace=True).index\n",
    "    return [np.where(self.items.index == i)[0][0] for i in upsampled_idxs]"
   ]
  },
  {
   "cell_type": "code",
   "execution_count": 30,
   "metadata": {},
   "outputs": [],
   "source": [
    "learn = get_learner()\n",
    "learn.dls.train.get_idxs = types.MethodType(sample_epoch, learn.dls.train)"
   ]
  },
  {
   "cell_type": "markdown",
   "metadata": {},
   "source": [
    "A quick sanity test"
   ]
  },
  {
   "cell_type": "code",
   "execution_count": 25,
   "metadata": {},
   "outputs": [
    {
     "data": {
      "text/plain": [
       "8D       4467\n",
       "6R       4438\n",
       "4D       4403\n",
       "7D1      4387\n",
       "7R       4372\n",
       "5R3      4372\n",
       "5R2      4369\n",
       "1+1+3    4364\n",
       "6i       4361\n",
       "1+31     4358\n",
       "7D2      4357\n",
       "3D       4350\n",
       "7i       4346\n",
       "4R1      4342\n",
       "8i       4342\n",
       "9R       4341\n",
       "8R       4330\n",
       "4R2      4322\n",
       "1+32     4295\n",
       "3R       4288\n",
       "5R1      4282\n",
       "2+3      4261\n",
       "9i       4253\n",
       "Name: CodaType, dtype: int64"
      ]
     },
     "execution_count": 25,
     "metadata": {},
     "output_type": "execute_result"
    }
   ],
   "source": [
    "idxs = learn.dls.train.get_idxs()\n",
    "learn.dls.train.items.iloc[idxs].CodaType.value_counts()"
   ]
  },
  {
   "cell_type": "markdown",
   "metadata": {},
   "source": [
    "Let us train"
   ]
  },
  {
   "cell_type": "code",
   "execution_count": 26,
   "metadata": {},
   "outputs": [
    {
     "data": {
      "text/html": [
       "<table border=\"1\" class=\"dataframe\">\n",
       "  <thead>\n",
       "    <tr style=\"text-align: left;\">\n",
       "      <th>epoch</th>\n",
       "      <th>train_loss</th>\n",
       "      <th>valid_loss</th>\n",
       "      <th>accuracy</th>\n",
       "      <th>time</th>\n",
       "    </tr>\n",
       "  </thead>\n",
       "  <tbody>\n",
       "    <tr>\n",
       "      <td>0</td>\n",
       "      <td>2.142259</td>\n",
       "      <td>2.204962</td>\n",
       "      <td>0.389303</td>\n",
       "      <td>00:19</td>\n",
       "    </tr>\n",
       "    <tr>\n",
       "      <td>1</td>\n",
       "      <td>1.917103</td>\n",
       "      <td>2.034287</td>\n",
       "      <td>0.656716</td>\n",
       "      <td>00:19</td>\n",
       "    </tr>\n",
       "    <tr>\n",
       "      <td>2</td>\n",
       "      <td>1.808569</td>\n",
       "      <td>1.923597</td>\n",
       "      <td>0.728856</td>\n",
       "      <td>00:19</td>\n",
       "    </tr>\n",
       "    <tr>\n",
       "      <td>3</td>\n",
       "      <td>1.695975</td>\n",
       "      <td>1.832408</td>\n",
       "      <td>0.773632</td>\n",
       "      <td>00:19</td>\n",
       "    </tr>\n",
       "    <tr>\n",
       "      <td>4</td>\n",
       "      <td>1.604863</td>\n",
       "      <td>1.735847</td>\n",
       "      <td>0.894279</td>\n",
       "      <td>00:19</td>\n",
       "    </tr>\n",
       "    <tr>\n",
       "      <td>5</td>\n",
       "      <td>1.537120</td>\n",
       "      <td>1.651855</td>\n",
       "      <td>0.966418</td>\n",
       "      <td>00:19</td>\n",
       "    </tr>\n",
       "    <tr>\n",
       "      <td>6</td>\n",
       "      <td>1.477692</td>\n",
       "      <td>1.588840</td>\n",
       "      <td>0.986318</td>\n",
       "      <td>00:19</td>\n",
       "    </tr>\n",
       "    <tr>\n",
       "      <td>7</td>\n",
       "      <td>1.431008</td>\n",
       "      <td>1.532195</td>\n",
       "      <td>0.986318</td>\n",
       "      <td>00:19</td>\n",
       "    </tr>\n",
       "    <tr>\n",
       "      <td>8</td>\n",
       "      <td>1.379324</td>\n",
       "      <td>1.461624</td>\n",
       "      <td>0.985075</td>\n",
       "      <td>00:19</td>\n",
       "    </tr>\n",
       "    <tr>\n",
       "      <td>9</td>\n",
       "      <td>1.332867</td>\n",
       "      <td>1.400233</td>\n",
       "      <td>0.992537</td>\n",
       "      <td>00:19</td>\n",
       "    </tr>\n",
       "  </tbody>\n",
       "</table>"
      ],
      "text/plain": [
       "<IPython.core.display.HTML object>"
      ]
     },
     "metadata": {},
     "output_type": "display_data"
    }
   ],
   "source": [
    "learn.fit(10, 1e-3)"
   ]
  },
  {
   "cell_type": "code",
   "execution_count": 28,
   "metadata": {},
   "outputs": [
    {
     "data": {
      "text/html": [
       "<table border=\"1\" class=\"dataframe\">\n",
       "  <thead>\n",
       "    <tr style=\"text-align: left;\">\n",
       "      <th>epoch</th>\n",
       "      <th>train_loss</th>\n",
       "      <th>valid_loss</th>\n",
       "      <th>accuracy</th>\n",
       "      <th>time</th>\n",
       "    </tr>\n",
       "  </thead>\n",
       "  <tbody>\n",
       "    <tr>\n",
       "      <td>0</td>\n",
       "      <td>1.313218</td>\n",
       "      <td>1.360112</td>\n",
       "      <td>0.993781</td>\n",
       "      <td>00:19</td>\n",
       "    </tr>\n",
       "    <tr>\n",
       "      <td>1</td>\n",
       "      <td>1.295589</td>\n",
       "      <td>1.340165</td>\n",
       "      <td>0.995025</td>\n",
       "      <td>00:19</td>\n",
       "    </tr>\n",
       "    <tr>\n",
       "      <td>2</td>\n",
       "      <td>1.291922</td>\n",
       "      <td>1.331838</td>\n",
       "      <td>0.993781</td>\n",
       "      <td>00:19</td>\n",
       "    </tr>\n",
       "    <tr>\n",
       "      <td>3</td>\n",
       "      <td>1.278093</td>\n",
       "      <td>1.316814</td>\n",
       "      <td>0.996269</td>\n",
       "      <td>00:19</td>\n",
       "    </tr>\n",
       "    <tr>\n",
       "      <td>4</td>\n",
       "      <td>1.244912</td>\n",
       "      <td>1.287412</td>\n",
       "      <td>0.995025</td>\n",
       "      <td>00:19</td>\n",
       "    </tr>\n",
       "  </tbody>\n",
       "</table>"
      ],
      "text/plain": [
       "<IPython.core.display.HTML object>"
      ]
     },
     "metadata": {},
     "output_type": "display_data"
    }
   ],
   "source": [
    "learn.fit(5, 5e-4)"
   ]
  },
  {
   "cell_type": "code",
   "execution_count": 29,
   "metadata": {},
   "outputs": [
    {
     "data": {
      "text/html": [
       "<table border=\"1\" class=\"dataframe\">\n",
       "  <thead>\n",
       "    <tr style=\"text-align: left;\">\n",
       "      <th>epoch</th>\n",
       "      <th>train_loss</th>\n",
       "      <th>valid_loss</th>\n",
       "      <th>accuracy</th>\n",
       "      <th>time</th>\n",
       "    </tr>\n",
       "  </thead>\n",
       "  <tbody>\n",
       "    <tr>\n",
       "      <td>0</td>\n",
       "      <td>1.240243</td>\n",
       "      <td>1.285051</td>\n",
       "      <td>0.995025</td>\n",
       "      <td>00:19</td>\n",
       "    </tr>\n",
       "    <tr>\n",
       "      <td>1</td>\n",
       "      <td>1.233052</td>\n",
       "      <td>1.282633</td>\n",
       "      <td>0.995025</td>\n",
       "      <td>00:19</td>\n",
       "    </tr>\n",
       "    <tr>\n",
       "      <td>2</td>\n",
       "      <td>1.228914</td>\n",
       "      <td>1.280479</td>\n",
       "      <td>0.996269</td>\n",
       "      <td>00:19</td>\n",
       "    </tr>\n",
       "    <tr>\n",
       "      <td>3</td>\n",
       "      <td>1.226334</td>\n",
       "      <td>1.266625</td>\n",
       "      <td>0.996269</td>\n",
       "      <td>00:19</td>\n",
       "    </tr>\n",
       "    <tr>\n",
       "      <td>4</td>\n",
       "      <td>1.233800</td>\n",
       "      <td>1.268806</td>\n",
       "      <td>0.995025</td>\n",
       "      <td>00:19</td>\n",
       "    </tr>\n",
       "  </tbody>\n",
       "</table>"
      ],
      "text/plain": [
       "<IPython.core.display.HTML object>"
      ]
     },
     "metadata": {},
     "output_type": "display_data"
    }
   ],
   "source": [
    "learn.fit(5, 1e-4)"
   ]
  },
  {
   "cell_type": "markdown",
   "metadata": {},
   "source": [
    "We were not exactly able to get to the accuracy of 99.9% reported in the paper. Still, this seems good enough.\n",
    "\n",
    "Let's see whether we can get a smiliar result without pretraining and with the entire model unfrozen."
   ]
  },
  {
   "cell_type": "code",
   "execution_count": 3,
   "metadata": {},
   "outputs": [],
   "source": [
    "dls = datasets_coda.dataloaders(bs = 128)\n",
    "learn = Learner(dls, model_pretrain.Model())\n",
    "learn.model.lin = nn.Linear(256, dls.c)\n",
    "learn.metrics = [accuracy]\n",
    "learn.dls.train.get_idxs = types.MethodType(sample_epoch, learn.dls.train)\n",
    "learn.dls.train.n = 100_000"
   ]
  },
  {
   "cell_type": "code",
   "execution_count": 4,
   "metadata": {},
   "outputs": [
    {
     "data": {
      "text/html": [
       "<table border=\"1\" class=\"dataframe\">\n",
       "  <thead>\n",
       "    <tr style=\"text-align: left;\">\n",
       "      <th>epoch</th>\n",
       "      <th>train_loss</th>\n",
       "      <th>valid_loss</th>\n",
       "      <th>accuracy</th>\n",
       "      <th>time</th>\n",
       "    </tr>\n",
       "  </thead>\n",
       "  <tbody>\n",
       "    <tr>\n",
       "      <td>0</td>\n",
       "      <td>0.428250</td>\n",
       "      <td>0.360457</td>\n",
       "      <td>0.962687</td>\n",
       "      <td>00:19</td>\n",
       "    </tr>\n",
       "    <tr>\n",
       "      <td>1</td>\n",
       "      <td>0.089676</td>\n",
       "      <td>0.043444</td>\n",
       "      <td>0.993781</td>\n",
       "      <td>00:20</td>\n",
       "    </tr>\n",
       "    <tr>\n",
       "      <td>2</td>\n",
       "      <td>0.052602</td>\n",
       "      <td>0.031867</td>\n",
       "      <td>0.987562</td>\n",
       "      <td>00:19</td>\n",
       "    </tr>\n",
       "    <tr>\n",
       "      <td>3</td>\n",
       "      <td>0.031480</td>\n",
       "      <td>0.017213</td>\n",
       "      <td>0.997512</td>\n",
       "      <td>00:19</td>\n",
       "    </tr>\n",
       "    <tr>\n",
       "      <td>4</td>\n",
       "      <td>0.024979</td>\n",
       "      <td>0.027840</td>\n",
       "      <td>0.993781</td>\n",
       "      <td>00:19</td>\n",
       "    </tr>\n",
       "    <tr>\n",
       "      <td>5</td>\n",
       "      <td>0.028536</td>\n",
       "      <td>0.029325</td>\n",
       "      <td>0.991294</td>\n",
       "      <td>00:19</td>\n",
       "    </tr>\n",
       "    <tr>\n",
       "      <td>6</td>\n",
       "      <td>0.023300</td>\n",
       "      <td>0.139098</td>\n",
       "      <td>0.936567</td>\n",
       "      <td>00:19</td>\n",
       "    </tr>\n",
       "    <tr>\n",
       "      <td>7</td>\n",
       "      <td>0.027956</td>\n",
       "      <td>0.013908</td>\n",
       "      <td>0.995025</td>\n",
       "      <td>00:20</td>\n",
       "    </tr>\n",
       "    <tr>\n",
       "      <td>8</td>\n",
       "      <td>0.018284</td>\n",
       "      <td>0.015746</td>\n",
       "      <td>0.995025</td>\n",
       "      <td>00:19</td>\n",
       "    </tr>\n",
       "    <tr>\n",
       "      <td>9</td>\n",
       "      <td>0.017679</td>\n",
       "      <td>0.029007</td>\n",
       "      <td>0.993781</td>\n",
       "      <td>00:19</td>\n",
       "    </tr>\n",
       "  </tbody>\n",
       "</table>"
      ],
      "text/plain": [
       "<IPython.core.display.HTML object>"
      ]
     },
     "metadata": {},
     "output_type": "display_data"
    }
   ],
   "source": [
    "learn.fit(10, 1e-3)"
   ]
  },
  {
   "cell_type": "code",
   "execution_count": 5,
   "metadata": {},
   "outputs": [
    {
     "data": {
      "text/html": [
       "<table border=\"1\" class=\"dataframe\">\n",
       "  <thead>\n",
       "    <tr style=\"text-align: left;\">\n",
       "      <th>epoch</th>\n",
       "      <th>train_loss</th>\n",
       "      <th>valid_loss</th>\n",
       "      <th>accuracy</th>\n",
       "      <th>time</th>\n",
       "    </tr>\n",
       "  </thead>\n",
       "  <tbody>\n",
       "    <tr>\n",
       "      <td>0</td>\n",
       "      <td>0.011762</td>\n",
       "      <td>0.011826</td>\n",
       "      <td>0.995025</td>\n",
       "      <td>00:19</td>\n",
       "    </tr>\n",
       "    <tr>\n",
       "      <td>1</td>\n",
       "      <td>0.012083</td>\n",
       "      <td>0.009542</td>\n",
       "      <td>0.995025</td>\n",
       "      <td>00:19</td>\n",
       "    </tr>\n",
       "    <tr>\n",
       "      <td>2</td>\n",
       "      <td>0.012008</td>\n",
       "      <td>0.004144</td>\n",
       "      <td>0.997512</td>\n",
       "      <td>00:19</td>\n",
       "    </tr>\n",
       "    <tr>\n",
       "      <td>3</td>\n",
       "      <td>0.016163</td>\n",
       "      <td>0.030589</td>\n",
       "      <td>0.991294</td>\n",
       "      <td>00:19</td>\n",
       "    </tr>\n",
       "    <tr>\n",
       "      <td>4</td>\n",
       "      <td>0.011651</td>\n",
       "      <td>0.012466</td>\n",
       "      <td>0.996269</td>\n",
       "      <td>00:19</td>\n",
       "    </tr>\n",
       "  </tbody>\n",
       "</table>"
      ],
      "text/plain": [
       "<IPython.core.display.HTML object>"
      ]
     },
     "metadata": {},
     "output_type": "display_data"
    }
   ],
   "source": [
    "learn.fit(5, 5e-4)"
   ]
  },
  {
   "cell_type": "code",
   "execution_count": 6,
   "metadata": {},
   "outputs": [
    {
     "data": {
      "text/html": [
       "<table border=\"1\" class=\"dataframe\">\n",
       "  <thead>\n",
       "    <tr style=\"text-align: left;\">\n",
       "      <th>epoch</th>\n",
       "      <th>train_loss</th>\n",
       "      <th>valid_loss</th>\n",
       "      <th>accuracy</th>\n",
       "      <th>time</th>\n",
       "    </tr>\n",
       "  </thead>\n",
       "  <tbody>\n",
       "    <tr>\n",
       "      <td>0</td>\n",
       "      <td>0.005980</td>\n",
       "      <td>0.004953</td>\n",
       "      <td>0.997512</td>\n",
       "      <td>00:19</td>\n",
       "    </tr>\n",
       "    <tr>\n",
       "      <td>1</td>\n",
       "      <td>0.006988</td>\n",
       "      <td>0.002272</td>\n",
       "      <td>0.998756</td>\n",
       "      <td>00:19</td>\n",
       "    </tr>\n",
       "    <tr>\n",
       "      <td>2</td>\n",
       "      <td>0.006873</td>\n",
       "      <td>0.001890</td>\n",
       "      <td>1.000000</td>\n",
       "      <td>00:19</td>\n",
       "    </tr>\n",
       "    <tr>\n",
       "      <td>3</td>\n",
       "      <td>0.006742</td>\n",
       "      <td>0.001953</td>\n",
       "      <td>0.998756</td>\n",
       "      <td>00:19</td>\n",
       "    </tr>\n",
       "    <tr>\n",
       "      <td>4</td>\n",
       "      <td>0.006238</td>\n",
       "      <td>0.001294</td>\n",
       "      <td>1.000000</td>\n",
       "      <td>00:19</td>\n",
       "    </tr>\n",
       "  </tbody>\n",
       "</table>"
      ],
      "text/plain": [
       "<IPython.core.display.HTML object>"
      ]
     },
     "metadata": {},
     "output_type": "display_data"
    }
   ],
   "source": [
    "learn.fit(5, 1e-4)"
   ]
  },
  {
   "cell_type": "markdown",
   "metadata": {},
   "source": [
    "Seems that pretraining is not necessary and that training the entire model helps.\n",
    "\n",
    "Let's also check if we could do with a much smaller model."
   ]
  },
  {
   "cell_type": "code",
   "execution_count": 12,
   "metadata": {},
   "outputs": [],
   "source": [
    "class Model(Module):\n",
    "    def __init__(self):\n",
    "        self.lstm1 = nn.LSTM(input_size=1, hidden_size=32, batch_first=True)\n",
    "        self.lin = nn.Linear(32, 1)\n",
    "    def forward(self, x):\n",
    "        x = x.unsqueeze(-1).to(torch.float32)\n",
    "        h = self.lstm1(x)[0]\n",
    "        h = F.relu(h)\n",
    "        x = self.lin(h[:, -1, :])\n",
    "        return x"
   ]
  },
  {
   "cell_type": "code",
   "execution_count": 13,
   "metadata": {},
   "outputs": [],
   "source": [
    "dls = datasets_coda.dataloaders(bs = 128)\n",
    "learn = Learner(dls, Model())\n",
    "learn.model.lin = nn.Linear(32, dls.c)\n",
    "learn.metrics = [accuracy]\n",
    "learn.dls.train.get_idxs = types.MethodType(sample_epoch, learn.dls.train)\n",
    "learn.dls.train.n = 100_000"
   ]
  },
  {
   "cell_type": "code",
   "execution_count": 14,
   "metadata": {},
   "outputs": [
    {
     "data": {
      "text/html": [
       "<table border=\"1\" class=\"dataframe\">\n",
       "  <thead>\n",
       "    <tr style=\"text-align: left;\">\n",
       "      <th>epoch</th>\n",
       "      <th>train_loss</th>\n",
       "      <th>valid_loss</th>\n",
       "      <th>accuracy</th>\n",
       "      <th>time</th>\n",
       "    </tr>\n",
       "  </thead>\n",
       "  <tbody>\n",
       "    <tr>\n",
       "      <td>0</td>\n",
       "      <td>1.577530</td>\n",
       "      <td>1.470940</td>\n",
       "      <td>0.389303</td>\n",
       "      <td>00:19</td>\n",
       "    </tr>\n",
       "    <tr>\n",
       "      <td>1</td>\n",
       "      <td>1.001337</td>\n",
       "      <td>0.967359</td>\n",
       "      <td>0.666667</td>\n",
       "      <td>00:19</td>\n",
       "    </tr>\n",
       "    <tr>\n",
       "      <td>2</td>\n",
       "      <td>0.723600</td>\n",
       "      <td>0.694374</td>\n",
       "      <td>0.791045</td>\n",
       "      <td>00:19</td>\n",
       "    </tr>\n",
       "    <tr>\n",
       "      <td>3</td>\n",
       "      <td>0.546421</td>\n",
       "      <td>0.521350</td>\n",
       "      <td>0.840796</td>\n",
       "      <td>00:19</td>\n",
       "    </tr>\n",
       "    <tr>\n",
       "      <td>4</td>\n",
       "      <td>0.401402</td>\n",
       "      <td>0.455676</td>\n",
       "      <td>0.838308</td>\n",
       "      <td>00:19</td>\n",
       "    </tr>\n",
       "    <tr>\n",
       "      <td>5</td>\n",
       "      <td>0.282333</td>\n",
       "      <td>0.381733</td>\n",
       "      <td>0.859453</td>\n",
       "      <td>00:19</td>\n",
       "    </tr>\n",
       "    <tr>\n",
       "      <td>6</td>\n",
       "      <td>0.219876</td>\n",
       "      <td>0.376542</td>\n",
       "      <td>0.861940</td>\n",
       "      <td>00:20</td>\n",
       "    </tr>\n",
       "    <tr>\n",
       "      <td>7</td>\n",
       "      <td>0.174598</td>\n",
       "      <td>0.310206</td>\n",
       "      <td>0.875622</td>\n",
       "      <td>00:19</td>\n",
       "    </tr>\n",
       "    <tr>\n",
       "      <td>8</td>\n",
       "      <td>0.148386</td>\n",
       "      <td>0.249020</td>\n",
       "      <td>0.912935</td>\n",
       "      <td>00:19</td>\n",
       "    </tr>\n",
       "    <tr>\n",
       "      <td>9</td>\n",
       "      <td>0.162041</td>\n",
       "      <td>0.284373</td>\n",
       "      <td>0.880597</td>\n",
       "      <td>00:19</td>\n",
       "    </tr>\n",
       "  </tbody>\n",
       "</table>"
      ],
      "text/plain": [
       "<IPython.core.display.HTML object>"
      ]
     },
     "metadata": {},
     "output_type": "display_data"
    }
   ],
   "source": [
    "learn.fit(10, 1e-3)"
   ]
  },
  {
   "cell_type": "code",
   "execution_count": 15,
   "metadata": {},
   "outputs": [
    {
     "data": {
      "text/html": [
       "<table border=\"1\" class=\"dataframe\">\n",
       "  <thead>\n",
       "    <tr style=\"text-align: left;\">\n",
       "      <th>epoch</th>\n",
       "      <th>train_loss</th>\n",
       "      <th>valid_loss</th>\n",
       "      <th>accuracy</th>\n",
       "      <th>time</th>\n",
       "    </tr>\n",
       "  </thead>\n",
       "  <tbody>\n",
       "    <tr>\n",
       "      <td>0</td>\n",
       "      <td>0.102815</td>\n",
       "      <td>0.221196</td>\n",
       "      <td>0.910448</td>\n",
       "      <td>00:19</td>\n",
       "    </tr>\n",
       "    <tr>\n",
       "      <td>1</td>\n",
       "      <td>0.087429</td>\n",
       "      <td>0.166963</td>\n",
       "      <td>0.970149</td>\n",
       "      <td>00:19</td>\n",
       "    </tr>\n",
       "    <tr>\n",
       "      <td>2</td>\n",
       "      <td>0.083025</td>\n",
       "      <td>0.163392</td>\n",
       "      <td>0.961443</td>\n",
       "      <td>00:19</td>\n",
       "    </tr>\n",
       "    <tr>\n",
       "      <td>3</td>\n",
       "      <td>0.072956</td>\n",
       "      <td>0.121880</td>\n",
       "      <td>0.975124</td>\n",
       "      <td>00:19</td>\n",
       "    </tr>\n",
       "    <tr>\n",
       "      <td>4</td>\n",
       "      <td>0.064175</td>\n",
       "      <td>0.104495</td>\n",
       "      <td>0.988806</td>\n",
       "      <td>00:19</td>\n",
       "    </tr>\n",
       "  </tbody>\n",
       "</table>"
      ],
      "text/plain": [
       "<IPython.core.display.HTML object>"
      ]
     },
     "metadata": {},
     "output_type": "display_data"
    }
   ],
   "source": [
    "learn.fit(5, 5e-4)"
   ]
  },
  {
   "cell_type": "code",
   "execution_count": 16,
   "metadata": {},
   "outputs": [
    {
     "data": {
      "text/html": [
       "<table border=\"1\" class=\"dataframe\">\n",
       "  <thead>\n",
       "    <tr style=\"text-align: left;\">\n",
       "      <th>epoch</th>\n",
       "      <th>train_loss</th>\n",
       "      <th>valid_loss</th>\n",
       "      <th>accuracy</th>\n",
       "      <th>time</th>\n",
       "    </tr>\n",
       "  </thead>\n",
       "  <tbody>\n",
       "    <tr>\n",
       "      <td>0</td>\n",
       "      <td>0.060739</td>\n",
       "      <td>0.102531</td>\n",
       "      <td>0.986318</td>\n",
       "      <td>00:19</td>\n",
       "    </tr>\n",
       "    <tr>\n",
       "      <td>1</td>\n",
       "      <td>0.056660</td>\n",
       "      <td>0.102899</td>\n",
       "      <td>0.986318</td>\n",
       "      <td>00:19</td>\n",
       "    </tr>\n",
       "    <tr>\n",
       "      <td>2</td>\n",
       "      <td>0.053389</td>\n",
       "      <td>0.093679</td>\n",
       "      <td>0.988806</td>\n",
       "      <td>00:19</td>\n",
       "    </tr>\n",
       "    <tr>\n",
       "      <td>3</td>\n",
       "      <td>0.052025</td>\n",
       "      <td>0.091438</td>\n",
       "      <td>0.990050</td>\n",
       "      <td>00:19</td>\n",
       "    </tr>\n",
       "    <tr>\n",
       "      <td>4</td>\n",
       "      <td>0.051068</td>\n",
       "      <td>0.083065</td>\n",
       "      <td>0.991294</td>\n",
       "      <td>00:19</td>\n",
       "    </tr>\n",
       "  </tbody>\n",
       "</table>"
      ],
      "text/plain": [
       "<IPython.core.display.HTML object>"
      ]
     },
     "metadata": {},
     "output_type": "display_data"
    }
   ],
   "source": [
    "learn.fit(5, 1e-4)"
   ]
  },
  {
   "cell_type": "markdown",
   "metadata": {},
   "source": [
    "A slightly lower accuracy with the same amount of training."
   ]
  }
 ],
 "metadata": {
  "kernelspec": {
   "display_name": "Python 3",
   "language": "python",
   "name": "python3"
  },
  "language_info": {
   "codemirror_mode": {
    "name": "ipython",
    "version": 3
   },
   "file_extension": ".py",
   "mimetype": "text/x-python",
   "name": "python",
   "nbconvert_exporter": "python",
   "pygments_lexer": "ipython3",
   "version": "3.7.6"
  }
 },
 "nbformat": 4,
 "nbformat_minor": 4
}
