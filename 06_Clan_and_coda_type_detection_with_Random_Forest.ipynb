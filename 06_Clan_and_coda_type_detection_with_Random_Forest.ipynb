{
 "cells": [
  {
   "cell_type": "markdown",
   "metadata": {},
   "source": [
    "# Clan and coda type detection with Random Forest\n",
    "\n",
    "> Can we get comparable results using a technique that doesn't require specialized NN training knowledge, doesn't require a GPU and lends itself well to interpretation?"
   ]
  },
  {
   "cell_type": "markdown",
   "metadata": {},
   "source": [
    "In this notebook we will explore the performance of Random Forest. This is an often overlooked algorithm that is extremely powerful from a modelling perspective and also has the following characeteristics:\n",
    "\n",
    "* can be run on the CPU\n",
    "* doesn't require specialized neural network construction and training knowledge\n",
    "* can tell us a lot about the data we are working with (lends itself well to interpetation)\n",
    "\n",
    "You can learn more about this algorithm from this extremely valuable online resource: [Fastbook by Fast.ai chapter 9](https://github.com/fastai/fastbook/blob/master/09_tabular.ipynb)"
   ]
  },
  {
   "cell_type": "markdown",
   "metadata": {},
   "source": [
    "## Clan detection"
   ]
  },
  {
   "cell_type": "code",
   "execution_count": 1,
   "metadata": {},
   "outputs": [],
   "source": [
    "from sperm_whale_bioacoustics.data import *\n",
    "# from sperm_whale_bioacoustics import model_pretrain\n",
    "\n",
    "from sklearn.ensemble import RandomForestClassifier\n",
    "from sklearn.model_selection import GridSearchCV\n",
    "import pandas as pd"
   ]
  },
  {
   "cell_type": "markdown",
   "metadata": {},
   "source": [
    "Let's grab the train and validation sets as dataframes."
   ]
  },
  {
   "cell_type": "code",
   "execution_count": 2,
   "metadata": {},
   "outputs": [],
   "source": [
    "train_clan = datasets_clan.items.iloc[datasets_clan.splits[0]]\n",
    "valid_clan = datasets_clan.items.iloc[datasets_clan.splits[1]]"
   ]
  },
  {
   "cell_type": "code",
   "execution_count": 3,
   "metadata": {},
   "outputs": [],
   "source": [
    "X_train_clan = train_clan.iloc[:, 4:13]\n",
    "y_train_clan = train_clan.Clan\n",
    "\n",
    "X_valid_clan = valid_clan.iloc[:, 4:13]\n",
    "y_valid_clan = valid_clan.Clan"
   ]
  },
  {
   "cell_type": "code",
   "execution_count": 4,
   "metadata": {},
   "outputs": [
    {
     "data": {
      "text/plain": [
       "0.9473684210526315"
      ]
     },
     "execution_count": 4,
     "metadata": {},
     "output_type": "execute_result"
    }
   ],
   "source": [
    "clf = RandomForestClassifier()\n",
    "clf.fit(X_train_clan, y_train_clan);\n",
    "\n",
    "clf.score(X_valid_clan, y_valid_clan)"
   ]
  },
  {
   "cell_type": "markdown",
   "metadata": {},
   "source": [
    "94.7% accuracy is the performance we would get out of `RandomForestClassifier` without any hyperparam tuning! This is slightly better than our RNN result with just a couple of lines of code!\n",
    "\n",
    "We are still below the 95.3% accuracy reported in the paper.\n",
    "<!-- We also match the accuracy reported in the paper of 95.3% on this task. -->\n",
    "\n",
    "Let's see if we can do better with extensive parameter tuning. Note that throughout this procedure we don't show our validation set to the model for training or evaluation - this reduces the risk of overitting hyperparameter values to our validation set."
   ]
  },
  {
   "cell_type": "code",
   "execution_count": 29,
   "metadata": {},
   "outputs": [],
   "source": [
    "params = {\n",
    "    'n_estimators': [300, 600, 1000, 1500, 2000, 4000, 10000],\n",
    "    'min_samples_leaf': [1, 2],\n",
    "    'max_features': [0.3, 0.5, 0.7, 1.0],\n",
    "    'oob_score': [True],\n",
    "    'max_samples': [0.1, 0.3, 0.5, 0.7]\n",
    "}\n",
    "\n",
    "search = GridSearchCV(RandomForestClassifier(), params, n_jobs=-1, cv=3)"
   ]
  },
  {
   "cell_type": "code",
   "execution_count": 30,
   "metadata": {},
   "outputs": [
    {
     "name": "stdout",
     "output_type": "stream",
     "text": [
      "CPU times: user 6.32 s, sys: 165 ms, total: 6.49 s\n",
      "Wall time: 8min 22s\n"
     ]
    },
    {
     "data": {
      "text/plain": [
       "GridSearchCV(cv=3, error_score=nan,\n",
       "             estimator=RandomForestClassifier(bootstrap=True, ccp_alpha=0.0,\n",
       "                                              class_weight=None,\n",
       "                                              criterion='gini', max_depth=None,\n",
       "                                              max_features='auto',\n",
       "                                              max_leaf_nodes=None,\n",
       "                                              max_samples=None,\n",
       "                                              min_impurity_decrease=0.0,\n",
       "                                              min_impurity_split=None,\n",
       "                                              min_samples_leaf=1,\n",
       "                                              min_samples_split=2,\n",
       "                                              min_weight_fraction_leaf=0.0,\n",
       "                                              n_estimators=100, n_jobs=None,\n",
       "                                              oob_score=False,\n",
       "                                              random_state=None, verbose=0,\n",
       "                                              warm_start=False),\n",
       "             iid='deprecated', n_jobs=-1,\n",
       "             param_grid={'max_features': [0.3, 0.5, 0.7, 1.0],\n",
       "                         'max_samples': [0.1, 0.3, 0.5, 0.7],\n",
       "                         'min_samples_leaf': [1, 2],\n",
       "                         'n_estimators': [300, 600, 1000, 1500, 2000, 4000,\n",
       "                                          10000],\n",
       "                         'oob_score': [True]},\n",
       "             pre_dispatch='2*n_jobs', refit=True, return_train_score=False,\n",
       "             scoring=None, verbose=0)"
      ]
     },
     "execution_count": 30,
     "metadata": {},
     "output_type": "execute_result"
    }
   ],
   "source": [
    "%time search.fit(X_train_clan, y_train_clan);"
   ]
  },
  {
   "cell_type": "code",
   "execution_count": 31,
   "metadata": {},
   "outputs": [
    {
     "data": {
      "text/plain": [
       "{'max_features': 0.5,\n",
       " 'max_samples': 0.7,\n",
       " 'min_samples_leaf': 1,\n",
       " 'n_estimators': 1500,\n",
       " 'oob_score': True}"
      ]
     },
     "execution_count": 31,
     "metadata": {},
     "output_type": "execute_result"
    }
   ],
   "source": [
    "search.best_params_"
   ]
  },
  {
   "cell_type": "code",
   "execution_count": 32,
   "metadata": {},
   "outputs": [
    {
     "data": {
      "text/plain": [
       "0.9988290398126464"
      ]
     },
     "execution_count": 32,
     "metadata": {},
     "output_type": "execute_result"
    }
   ],
   "source": [
    "search.best_estimator_.score(X_train_clan, y_train_clan)"
   ]
  },
  {
   "cell_type": "code",
   "execution_count": 33,
   "metadata": {},
   "outputs": [
    {
     "data": {
      "text/plain": [
       "0.9473684210526315"
      ]
     },
     "execution_count": 33,
     "metadata": {},
     "output_type": "execute_result"
    }
   ],
   "source": [
    "search.best_estimator_.score(X_valid_clan, y_valid_clan)"
   ]
  },
  {
   "cell_type": "markdown",
   "metadata": {},
   "source": [
    "No change at all. Seems slightly stronger performance than our RNN model and minimally below the results in the paper is where we need to stop.\n",
    "\n",
    "Let's take a look at model interpretation."
   ]
  },
  {
   "cell_type": "code",
   "execution_count": 37,
   "metadata": {},
   "outputs": [],
   "source": [
    "m = search.best_estimator_ # storing the model in the `m` variable so that we can access it with ease for later use"
   ]
  },
  {
   "cell_type": "markdown",
   "metadata": {},
   "source": [
    "## Model interpretation"
   ]
  },
  {
   "cell_type": "markdown",
   "metadata": {},
   "source": [
    "The model can classify examples up to a high degree accuracy. Can it tell us which features have it found most telling, most important for the task of discerning the clan membership?\n",
    "\n",
    "Yes, it can!"
   ]
  },
  {
   "cell_type": "markdown",
   "metadata": {},
   "source": [
    "### Feature importance"
   ]
  },
  {
   "cell_type": "code",
   "execution_count": 38,
   "metadata": {},
   "outputs": [],
   "source": [
    "# grabbing the code directly from https://github.com/fastai/fastbook/blob/master/09_tabular.ipynb\n",
    "def rf_feat_importance(m, df):\n",
    "    return pd.DataFrame({'cols':df.columns, 'imp':m.feature_importances_}\n",
    "                       ).sort_values('imp', ascending=False)"
   ]
  },
  {
   "cell_type": "code",
   "execution_count": 39,
   "metadata": {},
   "outputs": [
    {
     "data": {
      "text/html": [
       "<div>\n",
       "<style scoped>\n",
       "    .dataframe tbody tr th:only-of-type {\n",
       "        vertical-align: middle;\n",
       "    }\n",
       "\n",
       "    .dataframe tbody tr th {\n",
       "        vertical-align: top;\n",
       "    }\n",
       "\n",
       "    .dataframe thead th {\n",
       "        text-align: right;\n",
       "    }\n",
       "</style>\n",
       "<table border=\"1\" class=\"dataframe\">\n",
       "  <thead>\n",
       "    <tr style=\"text-align: right;\">\n",
       "      <th></th>\n",
       "      <th>cols</th>\n",
       "      <th>imp</th>\n",
       "    </tr>\n",
       "  </thead>\n",
       "  <tbody>\n",
       "    <tr>\n",
       "      <th>3</th>\n",
       "      <td>ICI4</td>\n",
       "      <td>0.398843</td>\n",
       "    </tr>\n",
       "    <tr>\n",
       "      <th>2</th>\n",
       "      <td>ICI3</td>\n",
       "      <td>0.308045</td>\n",
       "    </tr>\n",
       "    <tr>\n",
       "      <th>1</th>\n",
       "      <td>ICI2</td>\n",
       "      <td>0.084194</td>\n",
       "    </tr>\n",
       "    <tr>\n",
       "      <th>0</th>\n",
       "      <td>ICI1</td>\n",
       "      <td>0.081453</td>\n",
       "    </tr>\n",
       "    <tr>\n",
       "      <th>4</th>\n",
       "      <td>ICI5</td>\n",
       "      <td>0.063059</td>\n",
       "    </tr>\n",
       "    <tr>\n",
       "      <th>5</th>\n",
       "      <td>ICI6</td>\n",
       "      <td>0.043124</td>\n",
       "    </tr>\n",
       "    <tr>\n",
       "      <th>6</th>\n",
       "      <td>ICI7</td>\n",
       "      <td>0.012826</td>\n",
       "    </tr>\n",
       "    <tr>\n",
       "      <th>7</th>\n",
       "      <td>ICI8</td>\n",
       "      <td>0.006005</td>\n",
       "    </tr>\n",
       "    <tr>\n",
       "      <th>8</th>\n",
       "      <td>ICI9</td>\n",
       "      <td>0.002451</td>\n",
       "    </tr>\n",
       "  </tbody>\n",
       "</table>\n",
       "</div>"
      ],
      "text/plain": [
       "   cols       imp\n",
       "3  ICI4  0.398843\n",
       "2  ICI3  0.308045\n",
       "1  ICI2  0.084194\n",
       "0  ICI1  0.081453\n",
       "4  ICI5  0.063059\n",
       "5  ICI6  0.043124\n",
       "6  ICI7  0.012826\n",
       "7  ICI8  0.006005\n",
       "8  ICI9  0.002451"
      ]
     },
     "execution_count": 39,
     "metadata": {},
     "output_type": "execute_result"
    }
   ],
   "source": [
    "rf_feat_importance(m, X_valid_clan)"
   ]
  },
  {
   "cell_type": "markdown",
   "metadata": {},
   "source": [
    "We get a listing of features in order of their relative importance, of how much they contributed to making the predictions relative to each other.\n",
    "\n",
    "We can see that interclick interval #4 is most telling followed by ICI3 and than there is a large distance and ICI1 follows.\n",
    "\n",
    "What else can we learn about whale communication?"
   ]
  },
  {
   "cell_type": "markdown",
   "metadata": {},
   "source": [
    "### Correlation between columns in our dataset"
   ]
  },
  {
   "cell_type": "markdown",
   "metadata": {},
   "source": [
    "The following doesn't make use of the model that we trained, but it is also an interesting question to ask - which interclick intervals (in terms of duration) track each other most closely?"
   ]
  },
  {
   "cell_type": "code",
   "execution_count": 40,
   "metadata": {},
   "outputs": [],
   "source": [
    "# code taken from https://github.com/fastai/fastbook/blob/master/utils.py\n",
    "\n",
    "from scipy.cluster import hierarchy as hc\n",
    "import numpy as np\n",
    "import scipy\n",
    "import matplotlib.pylab as plt\n",
    "\n",
    "def cluster_columns(df, figsize=(10,6), font_size=12):\n",
    "    corr = np.round(scipy.stats.spearmanr(df).correlation, 4)\n",
    "    corr_condensed = hc.distance.squareform(1-corr)\n",
    "    z = hc.linkage(corr_condensed, method='average')\n",
    "    fig = plt.figure(figsize=figsize)\n",
    "    hc.dendrogram(z, labels=df.columns, orientation='left', leaf_font_size=font_size)\n",
    "    plt.show()"
   ]
  },
  {
   "cell_type": "code",
   "execution_count": 41,
   "metadata": {},
   "outputs": [
    {
     "data": {
      "image/png": "[encoded data removed]",
      "text/plain": [
       "<Figure size 720x432 with 1 Axes>"
      ]
     },
     "metadata": {
      "needs_background": "light"
     },
     "output_type": "display_data"
    }
   ],
   "source": [
    "cluster_columns(X_train_clan)"
   ]
  },
  {
   "cell_type": "markdown",
   "metadata": {},
   "source": [
    "We see that ICI1 tracks the duration of ICI2, ICI3 the duration of ICI4, and so on. It also seems that the last, very infrequent ICI9, seems more independent.\n",
    "\n",
    "This reinforces the sequential structure of a coda - the duration of an ICI is overall most closely related to the duration of the surrounding ICIs."
   ]
  },
  {
   "cell_type": "markdown",
   "metadata": {},
   "source": [
    "### Partial dependence"
   ]
  },
  {
   "cell_type": "markdown",
   "metadata": {},
   "source": [
    "Let's go back to querying our model and construct partial dependence plots. This is a technique that allows us to answer the following question: if the only thing that varied was a given column, say ICI4, how would that affect the prediction?\n",
    "\n",
    "From the above considerations we know that ICI4 plays a key role in discerning between the clans. But what values of the ICI4 are most associated with each clan? Let's find out."
   ]
  },
  {
   "cell_type": "code",
   "execution_count": 42,
   "metadata": {},
   "outputs": [],
   "source": [
    "from sklearn.inspection import plot_partial_dependence"
   ]
  },
  {
   "cell_type": "code",
   "execution_count": 43,
   "metadata": {},
   "outputs": [
    {
     "data": {
      "text/plain": [
       "array(['EC1', 'EC2'], dtype=object)"
      ]
     },
     "execution_count": 43,
     "metadata": {},
     "output_type": "execute_result"
    }
   ],
   "source": [
    "m.classes_"
   ]
  },
  {
   "cell_type": "code",
   "execution_count": 49,
   "metadata": {},
   "outputs": [
    {
     "data": {
      "text/plain": [
       "Text(0.5, 0.98, 'Partial dependence plots for EC2')"
      ]
     },
     "execution_count": 49,
     "metadata": {},
     "output_type": "execute_result"
    },
    {
     "data": {
      "image/png": "[encoded data removed]",
      "text/plain": [
       "<Figure size 864x288 with 3 Axes>"
      ]
     },
     "metadata": {
      "needs_background": "light"
     },
     "output_type": "display_data"
    }
   ],
   "source": [
    "fig,ax = plt.subplots(figsize=(12, 4))\n",
    "plot_partial_dependence(\n",
    "    m,\n",
    "    X_valid_clan,\n",
    "    ['ICI4', 'ICI3'],\n",
    "    grid_resolution=20,\n",
    "    target=['EC1', 'EC2'],\n",
    "    ax=ax);\n",
    "\n",
    "plt.gcf().suptitle('Partial dependence plots for EC2')"
   ]
  },
  {
   "cell_type": "markdown",
   "metadata": {},
   "source": [
    "We can see that there is a sharp jump roughly around 0.20 for ICI4. Once it crosses this threshold it immediately becomes a very strong indication that the coda orignated from a whale belonging to the EC2 clan.\n",
    "\n",
    "With ICI3 the shift is more gradual - shorter intervals are associated with belonging to the EC1 clan and and association with the EC2 clan becomes linearly more probably as the interval grows past the 0.20 mark."
   ]
  },
  {
   "cell_type": "markdown",
   "metadata": {},
   "source": [
    "### Understanding predictions on single example"
   ]
  },
  {
   "cell_type": "markdown",
   "metadata": {},
   "source": [
    "As we explore our data, we might be interested in understanding why our model made this specific prediction on a given row or data.\n",
    "\n",
    "To this effect, we can use this very handy waterfall chart."
   ]
  },
  {
   "cell_type": "code",
   "execution_count": 54,
   "metadata": {},
   "outputs": [],
   "source": [
    "import warnings\n",
    "warnings.simplefilter('ignore', FutureWarning)\n",
    "\n",
    "from treeinterpreter import treeinterpreter\n",
    "from waterfall_chart import plot as waterfall"
   ]
  },
  {
   "cell_type": "code",
   "execution_count": 93,
   "metadata": {},
   "outputs": [],
   "source": [
    "prediction,bias,contributions = treeinterpreter.predict(m, X_valid_clan.iloc[100].values.reshape(1,-1))"
   ]
  },
  {
   "cell_type": "markdown",
   "metadata": {},
   "source": [
    "Our model is convinced the whale belongs to the EC1 clan."
   ]
  },
  {
   "cell_type": "code",
   "execution_count": 94,
   "metadata": {},
   "outputs": [
    {
     "data": {
      "text/plain": [
       "'EC1'"
      ]
     },
     "execution_count": 94,
     "metadata": {},
     "output_type": "execute_result"
    }
   ],
   "source": [
    "y_valid_clan.iloc[100]"
   ]
  },
  {
   "cell_type": "markdown",
   "metadata": {},
   "source": [
    "And it is right! Let's see how it arrived at this prediction."
   ]
  },
  {
   "cell_type": "code",
   "execution_count": 95,
   "metadata": {},
   "outputs": [
    {
     "data": {
      "text/plain": [
       "Index(['ICI1', 'ICI2', 'ICI3', 'ICI4', 'ICI5', 'ICI6', 'ICI7', 'ICI8', 'ICI9'], dtype='object')"
      ]
     },
     "execution_count": 95,
     "metadata": {},
     "output_type": "execute_result"
    }
   ],
   "source": [
    "X_valid_clan.columns"
   ]
  },
  {
   "cell_type": "code",
   "execution_count": 96,
   "metadata": {},
   "outputs": [
    {
     "data": {
      "image/png": "[encoded data removed]",
      "text/plain": [
       "<Figure size 432x288 with 1 Axes>"
      ]
     },
     "metadata": {
      "needs_background": "light"
     },
     "output_type": "display_data"
    }
   ],
   "source": [
    "# code take from https://github.com/fastai/fastbook/blob/master/09_tabular.ipynb\n",
    "\n",
    "waterfall(X_valid_clan.columns, contributions[0][:, 0], threshold=0.08, \n",
    "          rotation_value=45,formatting='{:,.3f}');"
   ]
  },
  {
   "cell_type": "markdown",
   "metadata": {},
   "source": [
    "For this particular example the durations of the listed ICIs all suggest, according to the model, that the whale belongs to the EC1. We can also see that the ICI3 was particularly indicative.\n",
    "\n",
    "This is an unparalleled level of information that our model provides and does so with relative ease. It's performance falls slightly short of the performance of the RNN reported in the paper, nonetheless it facilitates carrying out a very detailed analysis of our data. It also doesn't require specialized hardware and allows a person carrying out the inquiry to arrive at the results much quicker than should they have to piece together training an RNN (even with a tool facilitating rapid prototyping like thie `fastai` library)"
   ]
  },
  {
   "cell_type": "code",
   "execution_count": null,
   "metadata": {},
   "outputs": [],
   "source": []
  }
 ],
 "metadata": {
  "kernelspec": {
   "display_name": "Python 3",
   "language": "python",
   "name": "python3"
  },
  "language_info": {
   "codemirror_mode": {
    "name": "ipython",
    "version": 3
   },
   "file_extension": ".py",
   "mimetype": "text/x-python",
   "name": "python",
   "nbconvert_exporter": "python",
   "pygments_lexer": "ipython3",
   "version": "3.7.6"
  }
 },
 "nbformat": 4,
 "nbformat_minor": 4
}
