{
 "cells": [
  {
   "cell_type": "markdown",
   "metadata": {},
   "source": [
    "# Clan and coda type detection with Random Forest\n",
    "\n",
    "> Can we get comparable results using a technique that doesn't require specialized NN training knowledge, doesn't require a GPU and lends itself well to interpretation?"
   ]
  },
  {
   "cell_type": "markdown",
   "metadata": {},
   "source": [
    "In this notebook we will explore the performance of Random Forest. This is an often overlooked algorithm that is extremely powerful from a modelling perspective and also has the following characeteristics:\n",
    "\n",
    "* can be run on the CPU\n",
    "* doesn't require specialized neural network construction and training knowledge\n",
    "* can tell us a lot about the data we are working with (lends itself well to interpetation)\n",
    "\n",
    "You can learn more about this algorithm from this extremely valuable online resource: [Fastbook by Fast.ai chapter 9](https://github.com/fastai/fastbook/blob/master/09_tabular.ipynb)"
   ]
  },
  {
   "cell_type": "markdown",
   "metadata": {},
   "source": [
    "## Clan detection"
   ]
  },
  {
   "cell_type": "markdown",
   "metadata": {},
   "source": [
    "Let's grab the train and validation sets as dataframes."
   ]
  },
  {
   "cell_type": "code",
   "execution_count": 1,
   "metadata": {},
   "outputs": [],
   "source": [
    "from sperm_whale_bioacoustics.data import *\n",
    "# from sperm_whale_bioacoustics import model_pretrain\n",
    "\n",
    "from sklearn.ensemble import RandomForestClassifier\n",
    "from sklearn.model_selection import GridSearchCV\n",
    "import pandas as pd\n",
    "import numpy as np"
   ]
  },
  {
   "cell_type": "code",
   "execution_count": 2,
   "metadata": {},
   "outputs": [],
   "source": [
    "train_clan = datasets_clan.items.iloc[datasets_clan.splits[0]]\n",
    "valid_clan = datasets_clan.items.iloc[datasets_clan.splits[1]]"
   ]
  },
  {
   "cell_type": "code",
   "execution_count": 3,
   "metadata": {},
   "outputs": [],
   "source": [
    "X_train_clan = train_clan.iloc[:, 4:13]\n",
    "y_train_clan = train_clan.Clan\n",
    "\n",
    "X_valid_clan = valid_clan.iloc[:, 4:13]\n",
    "y_valid_clan = valid_clan.Clan"
   ]
  },
  {
   "cell_type": "code",
   "execution_count": 4,
   "metadata": {},
   "outputs": [
    {
     "data": {
      "text/plain": [
       "0.9526315789473684"
      ]
     },
     "execution_count": 4,
     "metadata": {},
     "output_type": "execute_result"
    }
   ],
   "source": [
    "clf = RandomForestClassifier()\n",
    "clf.fit(X_train_clan, y_train_clan);\n",
    "\n",
    "clf.score(X_valid_clan, y_valid_clan)"
   ]
  },
  {
   "cell_type": "markdown",
   "metadata": {},
   "source": [
    "95.3% accuracy is the performance we would get out of `RandomForestClassifier` without any hyperparam tuning! This is slightly better than our RNN result with just a couple of lines of code!\n",
    "\n",
    "Quite interestingly, it is also the exact result reported in the paper!\n",
    "\n",
    "Let's see if we can do better with extensive parameter tuning. Note that throughout this procedure we don't show our validation set to the model for training or evaluation - this reduces the risk of overitting hyperparameter values to our validation set."
   ]
  },
  {
   "cell_type": "code",
   "execution_count": 5,
   "metadata": {},
   "outputs": [],
   "source": [
    "params = {\n",
    "    'n_estimators': [300, 600, 1000, 1500, 2000, 4000, 10000],\n",
    "    'min_samples_leaf': [1, 2],\n",
    "    'max_features': [0.3, 0.5, 0.7, 1.0],\n",
    "    'max_samples': [0.1, 0.3, 0.5, 0.7, 0.9, 1]\n",
    "}\n",
    "\n",
    "search = GridSearchCV(RandomForestClassifier(), params, n_jobs=-1, cv=3)"
   ]
  },
  {
   "cell_type": "code",
   "execution_count": 6,
   "metadata": {},
   "outputs": [
    {
     "name": "stdout",
     "output_type": "stream",
     "text": [
      "CPU times: user 13 s, sys: 252 ms, total: 13.2 s\n",
      "Wall time: 10min 26s\n"
     ]
    },
    {
     "data": {
      "text/plain": [
       "GridSearchCV(cv=3, error_score=nan,\n",
       "             estimator=RandomForestClassifier(bootstrap=True, ccp_alpha=0.0,\n",
       "                                              class_weight=None,\n",
       "                                              criterion='gini', max_depth=None,\n",
       "                                              max_features='auto',\n",
       "                                              max_leaf_nodes=None,\n",
       "                                              max_samples=None,\n",
       "                                              min_impurity_decrease=0.0,\n",
       "                                              min_impurity_split=None,\n",
       "                                              min_samples_leaf=1,\n",
       "                                              min_samples_split=2,\n",
       "                                              min_weight_fraction_leaf=0.0,\n",
       "                                              n_estimators=100, n_jobs=None,\n",
       "                                              oob_score=False,\n",
       "                                              random_state=None, verbose=0,\n",
       "                                              warm_start=False),\n",
       "             iid='deprecated', n_jobs=-1,\n",
       "             param_grid={'max_features': [0.3, 0.5, 0.7, 1.0],\n",
       "                         'max_samples': [0.1, 0.3, 0.5, 0.7, 0.9, 1],\n",
       "                         'min_samples_leaf': [1, 2],\n",
       "                         'n_estimators': [300, 600, 1000, 1500, 2000, 4000,\n",
       "                                          10000]},\n",
       "             pre_dispatch='2*n_jobs', refit=True, return_train_score=False,\n",
       "             scoring=None, verbose=0)"
      ]
     },
     "execution_count": 6,
     "metadata": {},
     "output_type": "execute_result"
    }
   ],
   "source": [
    "%time search.fit(X_train_clan, y_train_clan);"
   ]
  },
  {
   "cell_type": "code",
   "execution_count": 7,
   "metadata": {},
   "outputs": [
    {
     "data": {
      "text/plain": [
       "{'max_features': 0.5,\n",
       " 'max_samples': 0.9,\n",
       " 'min_samples_leaf': 1,\n",
       " 'n_estimators': 4000}"
      ]
     },
     "execution_count": 7,
     "metadata": {},
     "output_type": "execute_result"
    }
   ],
   "source": [
    "search.best_params_"
   ]
  },
  {
   "cell_type": "code",
   "execution_count": 8,
   "metadata": {},
   "outputs": [
    {
     "data": {
      "text/plain": [
       "0.9473684210526315"
      ]
     },
     "execution_count": 8,
     "metadata": {},
     "output_type": "execute_result"
    }
   ],
   "source": [
    "search.best_estimator_.score(X_valid_clan, y_valid_clan)"
   ]
  },
  {
   "cell_type": "markdown",
   "metadata": {},
   "source": [
    "This doesn't improve our results. Seems slightly stronger performance than our RNN model and minimally below the results in the paper is where we need to stop.\n",
    "\n",
    "Let's take a look at model interpretation."
   ]
  },
  {
   "cell_type": "code",
   "execution_count": 9,
   "metadata": {},
   "outputs": [],
   "source": [
    "m = search.best_estimator_ # storing the model in the `m` variable so that we can access it with ease for later use"
   ]
  },
  {
   "cell_type": "markdown",
   "metadata": {},
   "source": [
    "## Model interpretation"
   ]
  },
  {
   "cell_type": "markdown",
   "metadata": {},
   "source": [
    "The model can classify examples up to a high degree accuracy. Can it tell us which features have it found most telling, most important for the task of discerning the clan membership?\n",
    "\n",
    "Yes, it can!"
   ]
  },
  {
   "cell_type": "markdown",
   "metadata": {},
   "source": [
    "### Feature importance"
   ]
  },
  {
   "cell_type": "code",
   "execution_count": 10,
   "metadata": {},
   "outputs": [],
   "source": [
    "# grabbing the code directly from https://github.com/fastai/fastbook/blob/master/09_tabular.ipynb\n",
    "def rf_feat_importance(m, df):\n",
    "    return pd.DataFrame({'cols':df.columns, 'imp':m.feature_importances_}\n",
    "                       ).sort_values('imp', ascending=False)"
   ]
  },
  {
   "cell_type": "code",
   "execution_count": 11,
   "metadata": {},
   "outputs": [
    {
     "data": {
      "text/html": [
       "<div>\n",
       "<style scoped>\n",
       "    .dataframe tbody tr th:only-of-type {\n",
       "        vertical-align: middle;\n",
       "    }\n",
       "\n",
       "    .dataframe tbody tr th {\n",
       "        vertical-align: top;\n",
       "    }\n",
       "\n",
       "    .dataframe thead th {\n",
       "        text-align: right;\n",
       "    }\n",
       "</style>\n",
       "<table border=\"1\" class=\"dataframe\">\n",
       "  <thead>\n",
       "    <tr style=\"text-align: right;\">\n",
       "      <th></th>\n",
       "      <th>cols</th>\n",
       "      <th>imp</th>\n",
       "    </tr>\n",
       "  </thead>\n",
       "  <tbody>\n",
       "    <tr>\n",
       "      <th>3</th>\n",
       "      <td>ICI4</td>\n",
       "      <td>0.404468</td>\n",
       "    </tr>\n",
       "    <tr>\n",
       "      <th>2</th>\n",
       "      <td>ICI3</td>\n",
       "      <td>0.301419</td>\n",
       "    </tr>\n",
       "    <tr>\n",
       "      <th>0</th>\n",
       "      <td>ICI1</td>\n",
       "      <td>0.084432</td>\n",
       "    </tr>\n",
       "    <tr>\n",
       "      <th>1</th>\n",
       "      <td>ICI2</td>\n",
       "      <td>0.082337</td>\n",
       "    </tr>\n",
       "    <tr>\n",
       "      <th>4</th>\n",
       "      <td>ICI5</td>\n",
       "      <td>0.061908</td>\n",
       "    </tr>\n",
       "    <tr>\n",
       "      <th>5</th>\n",
       "      <td>ICI6</td>\n",
       "      <td>0.043144</td>\n",
       "    </tr>\n",
       "    <tr>\n",
       "      <th>6</th>\n",
       "      <td>ICI7</td>\n",
       "      <td>0.014105</td>\n",
       "    </tr>\n",
       "    <tr>\n",
       "      <th>7</th>\n",
       "      <td>ICI8</td>\n",
       "      <td>0.005540</td>\n",
       "    </tr>\n",
       "    <tr>\n",
       "      <th>8</th>\n",
       "      <td>ICI9</td>\n",
       "      <td>0.002647</td>\n",
       "    </tr>\n",
       "  </tbody>\n",
       "</table>\n",
       "</div>"
      ],
      "text/plain": [
       "   cols       imp\n",
       "3  ICI4  0.404468\n",
       "2  ICI3  0.301419\n",
       "0  ICI1  0.084432\n",
       "1  ICI2  0.082337\n",
       "4  ICI5  0.061908\n",
       "5  ICI6  0.043144\n",
       "6  ICI7  0.014105\n",
       "7  ICI8  0.005540\n",
       "8  ICI9  0.002647"
      ]
     },
     "execution_count": 11,
     "metadata": {},
     "output_type": "execute_result"
    }
   ],
   "source": [
    "rf_feat_importance(m, X_valid_clan)"
   ]
  },
  {
   "cell_type": "markdown",
   "metadata": {},
   "source": [
    "We get a listing of features in order of their relative importance, of how much they contributed to making the predictions relative to each other.\n",
    "\n",
    "We can see that interclick interval #4 is most telling followed by ICI3 and than there is a large distance and ICI1 follows.\n",
    "\n",
    "What else can we learn about whale communication?"
   ]
  },
  {
   "cell_type": "markdown",
   "metadata": {},
   "source": [
    "### Correlation between columns in our dataset"
   ]
  },
  {
   "cell_type": "markdown",
   "metadata": {},
   "source": [
    "The following doesn't make use of the model that we trained, but it is also an interesting question to ask - which interclick intervals (in terms of duration) track each other most closely?"
   ]
  },
  {
   "cell_type": "code",
   "execution_count": 12,
   "metadata": {},
   "outputs": [],
   "source": [
    "# code taken from https://github.com/fastai/fastbook/blob/master/utils.py\n",
    "\n",
    "from scipy.cluster import hierarchy as hc\n",
    "import numpy as np\n",
    "import scipy\n",
    "import matplotlib.pylab as plt\n",
    "\n",
    "def cluster_columns(df, figsize=(10,6), font_size=12):\n",
    "    corr = np.round(scipy.stats.spearmanr(df).correlation, 4)\n",
    "    corr_condensed = hc.distance.squareform(1-corr)\n",
    "    z = hc.linkage(corr_condensed, method='average')\n",
    "    fig = plt.figure(figsize=figsize)\n",
    "    hc.dendrogram(z, labels=df.columns, orientation='left', leaf_font_size=font_size)\n",
    "    plt.show()"
   ]
  },
  {
   "cell_type": "code",
   "execution_count": 13,
   "metadata": {},
   "outputs": [
    {
     "data": {
      "image/png": "[encoded data removed]",
      "text/plain": [
       "<Figure size 720x432 with 1 Axes>"
      ]
     },
     "metadata": {
      "needs_background": "light"
     },
     "output_type": "display_data"
    }
   ],
   "source": [
    "cluster_columns(X_train_clan)"
   ]
  },
  {
   "cell_type": "markdown",
   "metadata": {},
   "source": [
    "We see that ICI1 tracks the duration of ICI2, ICI3 the duration of ICI4, and so on. It also seems that the last, very infrequent ICI9, seems more independent.\n",
    "\n",
    "This reinforces the sequential structure of a coda - the duration of an ICI is overall most closely related to the duration of the surrounding ICIs."
   ]
  },
  {
   "cell_type": "markdown",
   "metadata": {},
   "source": [
    "### Partial dependence"
   ]
  },
  {
   "cell_type": "markdown",
   "metadata": {},
   "source": [
    "Let's go back to querying our model and construct partial dependence plots. This is a technique that allows us to answer the following question: if the only thing that varied was a given column, say ICI4, how would that affect the prediction?\n",
    "\n",
    "From the above considerations we know that ICI4 plays a key role in discerning between the clans. But what values of the ICI4 are most associated with each clan? Let's find out."
   ]
  },
  {
   "cell_type": "code",
   "execution_count": 14,
   "metadata": {},
   "outputs": [],
   "source": [
    "from sklearn.inspection import plot_partial_dependence"
   ]
  },
  {
   "cell_type": "code",
   "execution_count": 15,
   "metadata": {},
   "outputs": [
    {
     "data": {
      "text/plain": [
       "array(['EC1', 'EC2'], dtype=object)"
      ]
     },
     "execution_count": 15,
     "metadata": {},
     "output_type": "execute_result"
    }
   ],
   "source": [
    "m.classes_"
   ]
  },
  {
   "cell_type": "code",
   "execution_count": 16,
   "metadata": {},
   "outputs": [
    {
     "data": {
      "text/plain": [
       "Text(0.5, 0.98, 'Partial dependence plots for EC2')"
      ]
     },
     "execution_count": 16,
     "metadata": {},
     "output_type": "execute_result"
    },
    {
     "data": {
      "image/png": "[encoded data removed]",
      "text/plain": [
       "<Figure size 864x288 with 3 Axes>"
      ]
     },
     "metadata": {
      "needs_background": "light"
     },
     "output_type": "display_data"
    }
   ],
   "source": [
    "fig,ax = plt.subplots(figsize=(12, 4))\n",
    "plot_partial_dependence(\n",
    "    m,\n",
    "    X_valid_clan,\n",
    "    ['ICI4', 'ICI3'],\n",
    "    grid_resolution=20,\n",
    "    target=['EC1', 'EC2'],\n",
    "    ax=ax);\n",
    "\n",
    "plt.gcf().suptitle('Partial dependence plots for EC2')"
   ]
  },
  {
   "cell_type": "markdown",
   "metadata": {},
   "source": [
    "We can see that there is a sharp jump roughly around 0.20 for ICI4. Once it crosses this threshold it immediately becomes a very strong indication that the coda orignated from a whale belonging to the EC2 clan.\n",
    "\n",
    "With ICI3 the shift is more gradual - shorter intervals are associated with belonging to the EC1 clan and and association with the EC2 clan becomes linearly more probably as the interval grows past the 0.20 mark."
   ]
  },
  {
   "cell_type": "markdown",
   "metadata": {},
   "source": [
    "### Understanding predictions on single example"
   ]
  },
  {
   "cell_type": "markdown",
   "metadata": {},
   "source": [
    "As we explore our data, we might be interested in understanding why our model made this specific prediction on a given row or data.\n",
    "\n",
    "To this effect, we can use this very handy waterfall chart."
   ]
  },
  {
   "cell_type": "code",
   "execution_count": 17,
   "metadata": {},
   "outputs": [],
   "source": [
    "import warnings\n",
    "warnings.simplefilter('ignore', FutureWarning)\n",
    "\n",
    "from treeinterpreter import treeinterpreter\n",
    "from waterfall_chart import plot as waterfall"
   ]
  },
  {
   "cell_type": "code",
   "execution_count": 18,
   "metadata": {},
   "outputs": [],
   "source": [
    "prediction,bias,contributions = treeinterpreter.predict(m, X_valid_clan.iloc[100].values.reshape(1,-1))"
   ]
  },
  {
   "cell_type": "markdown",
   "metadata": {},
   "source": [
    "Our model is convinced the whale belongs to the EC1 clan."
   ]
  },
  {
   "cell_type": "code",
   "execution_count": 19,
   "metadata": {},
   "outputs": [
    {
     "data": {
      "text/plain": [
       "'EC1'"
      ]
     },
     "execution_count": 19,
     "metadata": {},
     "output_type": "execute_result"
    }
   ],
   "source": [
    "y_valid_clan.iloc[100]"
   ]
  },
  {
   "cell_type": "markdown",
   "metadata": {},
   "source": [
    "And it is right! Let's see how it arrived at this prediction."
   ]
  },
  {
   "cell_type": "code",
   "execution_count": 20,
   "metadata": {},
   "outputs": [
    {
     "data": {
      "text/plain": [
       "Index(['ICI1', 'ICI2', 'ICI3', 'ICI4', 'ICI5', 'ICI6', 'ICI7', 'ICI8', 'ICI9'], dtype='object')"
      ]
     },
     "execution_count": 20,
     "metadata": {},
     "output_type": "execute_result"
    }
   ],
   "source": [
    "X_valid_clan.columns"
   ]
  },
  {
   "cell_type": "code",
   "execution_count": 21,
   "metadata": {},
   "outputs": [
    {
     "data": {
      "image/png": "[encoded data removed]",
      "text/plain": [
       "<Figure size 432x288 with 1 Axes>"
      ]
     },
     "metadata": {
      "needs_background": "light"
     },
     "output_type": "display_data"
    }
   ],
   "source": [
    "# code take from https://github.com/fastai/fastbook/blob/master/09_tabular.ipynb\n",
    "\n",
    "waterfall(X_valid_clan.columns, contributions[0][:, 0], threshold=0.08, \n",
    "          rotation_value=45,formatting='{:,.3f}');"
   ]
  },
  {
   "cell_type": "markdown",
   "metadata": {},
   "source": [
    "For this particular example the durations of the listed ICIs all suggest, according to the model, that the whale belongs to the EC1. We can also see that the ICI3 was particularly indicative.\n",
    "\n",
    "This is an unparalleled level of information that our model provides and does so with relative ease. It's performance falls slightly short of the performance of the RNN reported in the paper, nonetheless it facilitates carrying out a very detailed analysis of our data. It also doesn't require specialized hardware and allows a person carrying out the inquiry to arrive at the results much quicker than should they have to piece together training an RNN (even with a tool facilitating rapid prototyping like thie `fastai` library)"
   ]
  },
  {
   "cell_type": "markdown",
   "metadata": {},
   "source": [
    "## Coda type detection"
   ]
  },
  {
   "cell_type": "markdown",
   "metadata": {},
   "source": [
    "We will now attempt coda type detection using Random Forest. Let's see how we will fare on this task."
   ]
  },
  {
   "cell_type": "code",
   "execution_count": 22,
   "metadata": {},
   "outputs": [],
   "source": [
    "train_coda = datasets_coda.items.iloc[datasets_coda.splits[0]]\n",
    "valid_coda = datasets_coda.items.iloc[datasets_coda.splits[1]]"
   ]
  },
  {
   "cell_type": "code",
   "execution_count": 23,
   "metadata": {},
   "outputs": [],
   "source": [
    "X_train_coda = train_coda.iloc[:, 4:13]\n",
    "y_train_coda = train_coda.CodaType\n",
    "\n",
    "X_valid_coda = valid_coda.iloc[:, 4:13]\n",
    "y_valid_coda = valid_coda.CodaType"
   ]
  },
  {
   "cell_type": "code",
   "execution_count": 24,
   "metadata": {},
   "outputs": [
    {
     "data": {
      "text/plain": [
       "((7228, 9), (804, 9))"
      ]
     },
     "execution_count": 24,
     "metadata": {},
     "output_type": "execute_result"
    }
   ],
   "source": [
    "X_train_coda.shape, X_valid_coda.shape"
   ]
  },
  {
   "cell_type": "code",
   "execution_count": 25,
   "metadata": {},
   "outputs": [
    {
     "data": {
      "text/plain": [
       "0.996268656716418"
      ]
     },
     "execution_count": 25,
     "metadata": {},
     "output_type": "execute_result"
    }
   ],
   "source": [
    "clf = RandomForestClassifier()\n",
    "clf.fit(X_train_coda, y_train_coda);\n",
    "\n",
    "clf.score(X_valid_coda, y_valid_coda)"
   ]
  },
  {
   "cell_type": "markdown",
   "metadata": {},
   "source": [
    "In the paper, an accuracy of 99.9% is achieved on the validation set, so we are not far off! Let's see if we can improve our results by tuning the hyperparameters."
   ]
  },
  {
   "cell_type": "code",
   "execution_count": 26,
   "metadata": {},
   "outputs": [],
   "source": [
    "params = {\n",
    "    'n_estimators': [300, 600, 1000, 1500, 2000, 4000, 10000],\n",
    "    'min_samples_leaf': [1, 2],\n",
    "    'max_features': [0.3, 0.5, 0.7, 1.0],\n",
    "    'max_samples': [0.1, 0.3, 0.5, 0.7, 0.9, 1]\n",
    "}\n",
    "\n",
    "search = GridSearchCV(RandomForestClassifier(), params, n_jobs=-1, cv=3)"
   ]
  },
  {
   "cell_type": "code",
   "execution_count": 27,
   "metadata": {},
   "outputs": [
    {
     "name": "stdout",
     "output_type": "stream",
     "text": [
      "CPU times: user 5.96 s, sys: 192 ms, total: 6.15 s\n",
      "Wall time: 24min 53s\n"
     ]
    },
    {
     "data": {
      "text/plain": [
       "GridSearchCV(cv=3, error_score=nan,\n",
       "             estimator=RandomForestClassifier(bootstrap=True, ccp_alpha=0.0,\n",
       "                                              class_weight=None,\n",
       "                                              criterion='gini', max_depth=None,\n",
       "                                              max_features='auto',\n",
       "                                              max_leaf_nodes=None,\n",
       "                                              max_samples=None,\n",
       "                                              min_impurity_decrease=0.0,\n",
       "                                              min_impurity_split=None,\n",
       "                                              min_samples_leaf=1,\n",
       "                                              min_samples_split=2,\n",
       "                                              min_weight_fraction_leaf=0.0,\n",
       "                                              n_estimators=100, n_jobs=None,\n",
       "                                              oob_score=False,\n",
       "                                              random_state=None, verbose=0,\n",
       "                                              warm_start=False),\n",
       "             iid='deprecated', n_jobs=-1,\n",
       "             param_grid={'max_features': [0.3, 0.5, 0.7, 1.0],\n",
       "                         'max_samples': [0.1, 0.3, 0.5, 0.7, 0.9, 1],\n",
       "                         'min_samples_leaf': [1, 2],\n",
       "                         'n_estimators': [300, 600, 1000, 1500, 2000, 4000,\n",
       "                                          10000]},\n",
       "             pre_dispatch='2*n_jobs', refit=True, return_train_score=False,\n",
       "             scoring=None, verbose=0)"
      ]
     },
     "execution_count": 27,
     "metadata": {},
     "output_type": "execute_result"
    }
   ],
   "source": [
    "%time search.fit(X_train_coda, y_train_coda);"
   ]
  },
  {
   "cell_type": "code",
   "execution_count": 28,
   "metadata": {},
   "outputs": [
    {
     "data": {
      "text/plain": [
       "{'max_features': 0.3,\n",
       " 'max_samples': 0.7,\n",
       " 'min_samples_leaf': 1,\n",
       " 'n_estimators': 300}"
      ]
     },
     "execution_count": 28,
     "metadata": {},
     "output_type": "execute_result"
    }
   ],
   "source": [
    "search.best_params_"
   ]
  },
  {
   "cell_type": "code",
   "execution_count": 29,
   "metadata": {},
   "outputs": [
    {
     "data": {
      "text/plain": [
       "0.996268656716418"
      ]
     },
     "execution_count": 29,
     "metadata": {},
     "output_type": "execute_result"
    }
   ],
   "source": [
    "search.best_estimator_.score(X_valid_coda, y_valid_coda)"
   ]
  },
  {
   "cell_type": "markdown",
   "metadata": {},
   "source": [
    "No improvement, 99.6% accuracy remains as our result!\n",
    "\n",
    "Given the result, the most interesting question that comes to mind is which examples the model got wrong? Are they mislabled data? Is there something specific about these examples that trips our model?"
   ]
  },
  {
   "cell_type": "code",
   "execution_count": 30,
   "metadata": {},
   "outputs": [],
   "source": [
    "m = search.best_estimator_"
   ]
  },
  {
   "cell_type": "code",
   "execution_count": 31,
   "metadata": {},
   "outputs": [
    {
     "data": {
      "text/plain": [
       "array(['1+1+3', '1+1+3', '5R1', '1+1+3', '1+1+3', '1+1+3', '4D', '1+1+3',\n",
       "       '4R2', '3D'], dtype=object)"
      ]
     },
     "execution_count": 31,
     "metadata": {},
     "output_type": "execute_result"
    }
   ],
   "source": [
    "preds = m.predict(X_valid_coda)\n",
    "preds[:10]"
   ]
  },
  {
   "cell_type": "code",
   "execution_count": 32,
   "metadata": {},
   "outputs": [
    {
     "data": {
      "text/plain": [
       "(array([274, 320, 523]),)"
      ]
     },
     "execution_count": 32,
     "metadata": {},
     "output_type": "execute_result"
    }
   ],
   "source": [
    "np.where(preds != y_valid_coda.values)"
   ]
  },
  {
   "cell_type": "markdown",
   "metadata": {},
   "source": [
    "Just three examples that our model missed! This is what they look like"
   ]
  },
  {
   "cell_type": "code",
   "execution_count": 33,
   "metadata": {},
   "outputs": [
    {
     "data": {
      "text/html": [
       "<div>\n",
       "<style scoped>\n",
       "    .dataframe tbody tr th:only-of-type {\n",
       "        vertical-align: middle;\n",
       "    }\n",
       "\n",
       "    .dataframe tbody tr th {\n",
       "        vertical-align: top;\n",
       "    }\n",
       "\n",
       "    .dataframe thead th {\n",
       "        text-align: right;\n",
       "    }\n",
       "</style>\n",
       "<table border=\"1\" class=\"dataframe\">\n",
       "  <thead>\n",
       "    <tr style=\"text-align: right;\">\n",
       "      <th></th>\n",
       "      <th>ICI1</th>\n",
       "      <th>ICI2</th>\n",
       "      <th>ICI3</th>\n",
       "      <th>ICI4</th>\n",
       "      <th>ICI5</th>\n",
       "      <th>ICI6</th>\n",
       "      <th>ICI7</th>\n",
       "      <th>ICI8</th>\n",
       "      <th>ICI9</th>\n",
       "    </tr>\n",
       "  </thead>\n",
       "  <tbody>\n",
       "    <tr>\n",
       "      <th>1697</th>\n",
       "      <td>0.27080</td>\n",
       "      <td>0.3293</td>\n",
       "      <td>0.161000</td>\n",
       "      <td>0.0</td>\n",
       "      <td>0.0</td>\n",
       "      <td>0.0</td>\n",
       "      <td>0.0</td>\n",
       "      <td>0.0</td>\n",
       "      <td>0.0</td>\n",
       "    </tr>\n",
       "    <tr>\n",
       "      <th>564</th>\n",
       "      <td>0.17100</td>\n",
       "      <td>0.0870</td>\n",
       "      <td>0.080000</td>\n",
       "      <td>0.0</td>\n",
       "      <td>0.0</td>\n",
       "      <td>0.0</td>\n",
       "      <td>0.0</td>\n",
       "      <td>0.0</td>\n",
       "      <td>0.0</td>\n",
       "    </tr>\n",
       "    <tr>\n",
       "      <th>5946</th>\n",
       "      <td>0.14125</td>\n",
       "      <td>0.1657</td>\n",
       "      <td>0.152017</td>\n",
       "      <td>0.0</td>\n",
       "      <td>0.0</td>\n",
       "      <td>0.0</td>\n",
       "      <td>0.0</td>\n",
       "      <td>0.0</td>\n",
       "      <td>0.0</td>\n",
       "    </tr>\n",
       "  </tbody>\n",
       "</table>\n",
       "</div>"
      ],
      "text/plain": [
       "         ICI1    ICI2      ICI3  ICI4  ICI5  ICI6  ICI7  ICI8  ICI9\n",
       "1697  0.27080  0.3293  0.161000   0.0   0.0   0.0   0.0   0.0   0.0\n",
       "564   0.17100  0.0870  0.080000   0.0   0.0   0.0   0.0   0.0   0.0\n",
       "5946  0.14125  0.1657  0.152017   0.0   0.0   0.0   0.0   0.0   0.0"
      ]
     },
     "execution_count": 33,
     "metadata": {},
     "output_type": "execute_result"
    }
   ],
   "source": [
    "X_valid_coda.iloc[np.where(preds != y_valid_coda.values)[0]]"
   ]
  },
  {
   "cell_type": "code",
   "execution_count": 34,
   "metadata": {},
   "outputs": [
    {
     "data": {
      "text/plain": [
       "1697     4R2\n",
       "564      4R1\n",
       "5946    1+31\n",
       "Name: CodaType, dtype: object"
      ]
     },
     "execution_count": 34,
     "metadata": {},
     "output_type": "execute_result"
    }
   ],
   "source": [
    "y_valid_coda.iloc[np.where(preds != y_valid_coda.values)[0]]"
   ]
  },
  {
   "cell_type": "markdown",
   "metadata": {},
   "source": [
    "I am not a domain expert, so it is hard for me to comment what went wrong here. Let us nonetheless try to understand better why our model made the prediction it did.\n",
    "\n",
    "These are it's predictions"
   ]
  },
  {
   "cell_type": "code",
   "execution_count": 35,
   "metadata": {},
   "outputs": [
    {
     "data": {
      "text/plain": [
       "array(['1+31', '1+32', '4R1'], dtype=object)"
      ]
     },
     "execution_count": 35,
     "metadata": {},
     "output_type": "execute_result"
    }
   ],
   "source": [
    "m.predict(X_valid_coda.iloc[np.where(preds != y_valid_coda.values)[0]])"
   ]
  },
  {
   "cell_type": "markdown",
   "metadata": {},
   "source": [
    "Taking look at the first one"
   ]
  },
  {
   "cell_type": "code",
   "execution_count": 36,
   "metadata": {},
   "outputs": [],
   "source": [
    "idx = np.where(preds != y_valid_coda.values)[0][0]\n",
    "prediction,bias,contributions = treeinterpreter.predict(m, X_valid_coda.iloc[idx].values.reshape(1,-1))"
   ]
  },
  {
   "cell_type": "code",
   "execution_count": 37,
   "metadata": {},
   "outputs": [
    {
     "data": {
      "image/png": "[encoded data removed]",
      "text/plain": [
       "<Figure size 432x288 with 1 Axes>"
      ]
     },
     "metadata": {
      "needs_background": "light"
     },
     "output_type": "display_data"
    }
   ],
   "source": [
    "waterfall(X_valid_coda.columns, contributions[0][:, 0], threshold=0.08, \n",
    "          rotation_value=45,formatting='{:,.3f}');"
   ]
  },
  {
   "cell_type": "markdown",
   "metadata": {},
   "source": [
    "We can see that the model found the ICI3 followed by ICI2 telling, while the highest contribution to the predction came from the ICI4 being equal to 0 (not surprisingly, that is a very strong indication to not even consider quite a few of the labels)."
   ]
  },
  {
   "cell_type": "markdown",
   "metadata": {},
   "source": [
    "## Summary"
   ]
  },
  {
   "cell_type": "markdown",
   "metadata": {},
   "source": [
    "Results of our Random Forest models:\n",
    "    \n",
    "### Clan detection\n",
    "\n",
    "|model|accuracy|\n",
    "|:------:|:-----------|\n",
    "|RNN (paper)|95.3%|\n",
    "|RNN (ours) |93.7%|\n",
    "|Random Forest |94.7%|\n",
    "\n",
    "### Coda type detection\n",
    "\n",
    "|model|accuracy|\n",
    "|:------:|:-----------|\n",
    "|RNN (paper)|99.9%|\n",
    "|RNN (ours) |100%|\n",
    "|Random Forest |99.6%|\n",
    "\n",
    "Our RNN and Random Forest use the same sampling of the train and validation sets and thus these results are easiest to compare. The paper followed a different sampling of the train and validation sets.\n",
    "\n",
    "Overall, the differences in performance, given the size of the validation set, are next to insignificant. All the models perform similarly.\n",
    "\n",
    "An interesting result is the stronger performance of our Random Forest as compared to our RNN on the clan detection task.\n",
    "\n",
    "We found no benefits to pretraining. For RNNs we got best results when training the entire model from scratch.\n",
    "\n",
    "The main consideration that we would like to highlight is how much less compute and specialized knowledge was needed to get good results with Random Forest. Above all, the interpretability of the model is unparalleled. The robustness of the method to training on unbalanced data and its legendary ability to not overfit (while still packing enough variance to give good results) makes this a great model to have in one's toolbox."
   ]
  }
 ],
 "metadata": {
  "kernelspec": {
   "display_name": "Python 3",
   "language": "python",
   "name": "python3"
  },
  "language_info": {
   "codemirror_mode": {
    "name": "ipython",
    "version": 3
   },
   "file_extension": ".py",
   "mimetype": "text/x-python",
   "name": "python",
   "nbconvert_exporter": "python",
   "pygments_lexer": "ipython3",
   "version": "3.7.6"
  }
 },
 "nbformat": 4,
 "nbformat_minor": 4
}
