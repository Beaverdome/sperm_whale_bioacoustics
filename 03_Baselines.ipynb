{
 "cells": [
  {
   "cell_type": "markdown",
   "metadata": {},
   "source": [
    "# Create the baseline\n",
    "\n",
    "> Learn more about the data and form a good starting point for further inquiry"
   ]
  },
  {
   "cell_type": "markdown",
   "metadata": {},
   "source": [
    "Here are the things we will attempt:\n",
    "\n",
    "* predicting clan ('EC1' or 'EC2') from interclick intervals (ICI)\n",
    "* predicting coda type (one out of 23 values)\n",
    "\n",
    "So far, based on the [Deep Machine Learning Techniques for the Detection and Classification of Sperm Whale Bioacoustics](https://www.nature.com/articles/s41598-019-48909-4), we know that this is possible. This is a significant finding - maybe any attempt at learning how whales communicate should start with the ICI? For instance, could whale communication be similar to morse code with the difference that here the duration of silence encodes some portion of the meaning?\n",
    "\n",
    "Or could the model be taking some sort of a shortcut? For predicting the clan, maybe there are obvious differences between how the clans communicate, maybe one uses sequences of different length than the other and the task of telling them apart is trivial?\n",
    "\n",
    "As for predicting the coda type, coda type assignment is done manually. A coda consisting of 5 clicks with similar interclick intervals will be assigned some label, 5 clicks with one longer gap another, and so on. All the performance on this task is telling us, is how well our model can emulate the classification done by human annotators. This is useful for annotating large quantities of data where labeled data can be used for further analysis. At its core though, it only speaks to the ability of the model learn a mapping from ICIs to the taxonomy devised by researchers.\n",
    "\n",
    "In any case, looking at the data will tell us more. I don't believe the analysis done here will be exhaustive (due to limited amount of data and how narrow the tasks we picked are), but hopefully it can contribute to the inquiry. \n",
    "\n",
    "From a machine learning perspective, starting with a simple baseline is extremely important. It is a great way to learn more about our data. Also, machine learning code is notoriously easy to get lost in, and if we don't have a baseline to refer to, we cannot be sure whether we are on the right track in building more advanced models.\n",
    "\n",
    "Without further ado, let's look at the data.\n",
    "\n",
    "**Sidenote**: I am having a hard time finding papers that would not be paywalled, but if you would be interesting in reading more about the topic of coda types and what meaning they can carry, here is a very good read that is availabe publicly: [Differences in sperm whale codas between two waters off Japan: Possible geographic separation of vocal clans](https://www.researchgate.net/publication/261707788_Differences_in_sperm_whale_codas_between_two_waters_off_Japan_Possible_geographic_separation_of_vocal_clans)"
   ]
  },
  {
   "cell_type": "code",
   "execution_count": 1,
   "metadata": {},
   "outputs": [],
   "source": [
    "from sperm_whale_bioacoustics.data import * # this import will take quite a while, but saves us\n",
    "                                            # a lot of NB real estate and typing\n",
    "import numpy as np\n",
    "import matplotlib.pyplot as plt\n",
    "import seaborn as sns\n",
    "import pandas as pd"
   ]
  },
  {
   "cell_type": "code",
   "execution_count": 2,
   "metadata": {},
   "outputs": [
    {
     "data": {
      "text/plain": [
       "(1898, 18)"
      ]
     },
     "execution_count": 2,
     "metadata": {},
     "output_type": "execute_result"
    }
   ],
   "source": [
    "datasets_clan.items.shape"
   ]
  },
  {
   "cell_type": "code",
   "execution_count": 3,
   "metadata": {},
   "outputs": [
    {
     "data": {
      "text/html": [
       "<div>\n",
       "<style scoped>\n",
       "    .dataframe tbody tr th:only-of-type {\n",
       "        vertical-align: middle;\n",
       "    }\n",
       "\n",
       "    .dataframe tbody tr th {\n",
       "        vertical-align: top;\n",
       "    }\n",
       "\n",
       "    .dataframe thead th {\n",
       "        text-align: right;\n",
       "    }\n",
       "</style>\n",
       "<table border=\"1\" class=\"dataframe\">\n",
       "  <thead>\n",
       "    <tr style=\"text-align: right;\">\n",
       "      <th></th>\n",
       "      <th>codaNUM2018</th>\n",
       "      <th>Date</th>\n",
       "      <th>nClicks</th>\n",
       "      <th>Duration</th>\n",
       "      <th>ICI1</th>\n",
       "      <th>ICI2</th>\n",
       "      <th>ICI3</th>\n",
       "      <th>ICI4</th>\n",
       "      <th>ICI5</th>\n",
       "      <th>ICI6</th>\n",
       "      <th>ICI7</th>\n",
       "      <th>ICI8</th>\n",
       "      <th>ICI9</th>\n",
       "      <th>CodaType</th>\n",
       "      <th>Clan</th>\n",
       "      <th>Unit</th>\n",
       "      <th>UnitNum</th>\n",
       "      <th>IDN</th>\n",
       "    </tr>\n",
       "  </thead>\n",
       "  <tbody>\n",
       "    <tr>\n",
       "      <th>1421</th>\n",
       "      <td>1422</td>\n",
       "      <td>2010-02-12 00:00:00</td>\n",
       "      <td>7</td>\n",
       "      <td>1.431100</td>\n",
       "      <td>0.481200</td>\n",
       "      <td>0.267900</td>\n",
       "      <td>0.237700</td>\n",
       "      <td>0.176600</td>\n",
       "      <td>0.1265</td>\n",
       "      <td>0.1412</td>\n",
       "      <td>0.0</td>\n",
       "      <td>0.0</td>\n",
       "      <td>0.0</td>\n",
       "      <td>7D1</td>\n",
       "      <td>EC1</td>\n",
       "      <td>F</td>\n",
       "      <td>3</td>\n",
       "      <td>5722</td>\n",
       "    </tr>\n",
       "    <tr>\n",
       "      <th>2748</th>\n",
       "      <td>2749</td>\n",
       "      <td>2008-04-19 00:00:00</td>\n",
       "      <td>5</td>\n",
       "      <td>0.361000</td>\n",
       "      <td>0.117000</td>\n",
       "      <td>0.097000</td>\n",
       "      <td>0.078000</td>\n",
       "      <td>0.069000</td>\n",
       "      <td>0.0000</td>\n",
       "      <td>0.0000</td>\n",
       "      <td>0.0</td>\n",
       "      <td>0.0</td>\n",
       "      <td>0.0</td>\n",
       "      <td>5R1</td>\n",
       "      <td>EC1</td>\n",
       "      <td>R</td>\n",
       "      <td>8</td>\n",
       "      <td>0</td>\n",
       "    </tr>\n",
       "    <tr>\n",
       "      <th>3475</th>\n",
       "      <td>3476</td>\n",
       "      <td>2010-02-11 00:00:00</td>\n",
       "      <td>5</td>\n",
       "      <td>0.806600</td>\n",
       "      <td>0.219900</td>\n",
       "      <td>0.245700</td>\n",
       "      <td>0.161100</td>\n",
       "      <td>0.179900</td>\n",
       "      <td>0.0000</td>\n",
       "      <td>0.0000</td>\n",
       "      <td>0.0</td>\n",
       "      <td>0.0</td>\n",
       "      <td>0.0</td>\n",
       "      <td>1+1+3</td>\n",
       "      <td>EC1</td>\n",
       "      <td>U</td>\n",
       "      <td>11</td>\n",
       "      <td>6035</td>\n",
       "    </tr>\n",
       "    <tr>\n",
       "      <th>5665</th>\n",
       "      <td>5707</td>\n",
       "      <td>2015-03-02 00:00:00</td>\n",
       "      <td>5</td>\n",
       "      <td>0.832792</td>\n",
       "      <td>0.273092</td>\n",
       "      <td>0.257708</td>\n",
       "      <td>0.161283</td>\n",
       "      <td>0.140708</td>\n",
       "      <td>0.0000</td>\n",
       "      <td>0.0000</td>\n",
       "      <td>0.0</td>\n",
       "      <td>0.0</td>\n",
       "      <td>0.0</td>\n",
       "      <td>1+1+3</td>\n",
       "      <td>EC1</td>\n",
       "      <td>A</td>\n",
       "      <td>1</td>\n",
       "      <td>5586</td>\n",
       "    </tr>\n",
       "    <tr>\n",
       "      <th>3002</th>\n",
       "      <td>3003</td>\n",
       "      <td>2010-03-10 00:00:00</td>\n",
       "      <td>5</td>\n",
       "      <td>0.338000</td>\n",
       "      <td>0.085000</td>\n",
       "      <td>0.106000</td>\n",
       "      <td>0.074000</td>\n",
       "      <td>0.073000</td>\n",
       "      <td>0.0000</td>\n",
       "      <td>0.0000</td>\n",
       "      <td>0.0</td>\n",
       "      <td>0.0</td>\n",
       "      <td>0.0</td>\n",
       "      <td>5R1</td>\n",
       "      <td>EC1</td>\n",
       "      <td>T</td>\n",
       "      <td>10</td>\n",
       "      <td>0</td>\n",
       "    </tr>\n",
       "  </tbody>\n",
       "</table>\n",
       "</div>"
      ],
      "text/plain": [
       "      codaNUM2018                 Date  nClicks  Duration      ICI1      ICI2  \\\n",
       "1421         1422  2010-02-12 00:00:00        7  1.431100  0.481200  0.267900   \n",
       "2748         2749  2008-04-19 00:00:00        5  0.361000  0.117000  0.097000   \n",
       "3475         3476  2010-02-11 00:00:00        5  0.806600  0.219900  0.245700   \n",
       "5665         5707  2015-03-02 00:00:00        5  0.832792  0.273092  0.257708   \n",
       "3002         3003  2010-03-10 00:00:00        5  0.338000  0.085000  0.106000   \n",
       "\n",
       "          ICI3      ICI4    ICI5    ICI6  ICI7  ICI8  ICI9 CodaType Clan Unit  \\\n",
       "1421  0.237700  0.176600  0.1265  0.1412   0.0   0.0   0.0      7D1  EC1    F   \n",
       "2748  0.078000  0.069000  0.0000  0.0000   0.0   0.0   0.0      5R1  EC1    R   \n",
       "3475  0.161100  0.179900  0.0000  0.0000   0.0   0.0   0.0    1+1+3  EC1    U   \n",
       "5665  0.161283  0.140708  0.0000  0.0000   0.0   0.0   0.0    1+1+3  EC1    A   \n",
       "3002  0.074000  0.073000  0.0000  0.0000   0.0   0.0   0.0      5R1  EC1    T   \n",
       "\n",
       "      UnitNum   IDN  \n",
       "1421        3  5722  \n",
       "2748        8     0  \n",
       "3475       11  6035  \n",
       "5665        1  5586  \n",
       "3002       10     0  "
      ]
     },
     "execution_count": 3,
     "metadata": {},
     "output_type": "execute_result"
    }
   ],
   "source": [
    "datasets_clan.items.head() # these are the examples we sampled in 02_Data_preparation.ipynb"
   ]
  },
  {
   "cell_type": "code",
   "execution_count": 4,
   "metadata": {},
   "outputs": [
    {
     "data": {
      "image/png": "[encoded data removed]",
      "text/plain": [
       "<Figure size 432x288 with 1 Axes>"
      ]
     },
     "metadata": {
      "needs_background": "light"
     },
     "output_type": "display_data"
    }
   ],
   "source": [
    "for clan in np.unique(datasets_clan.items.Clan):\n",
    "    sns.distplot(datasets_clan.items[datasets_clan.items.Clan==clan]['nClicks'], label=clan)\n",
    "plt.legend()\n",
    "plt.title('Number of clicks in a coda per clan');"
   ]
  },
  {
   "cell_type": "markdown",
   "metadata": {},
   "source": [
    "Nothing too obvious here - both clans seem to use codas with comparable number of clicks."
   ]
  },
  {
   "cell_type": "code",
   "execution_count": 5,
   "metadata": {},
   "outputs": [
    {
     "data": {
      "image/png": "[encoded data removed]",
      "text/plain": [
       "<Figure size 432x288 with 1 Axes>"
      ]
     },
     "metadata": {
      "needs_background": "light"
     },
     "output_type": "display_data"
    }
   ],
   "source": [
    "for clan in np.unique(datasets_clan.items.Clan):\n",
    "    sns.distplot(datasets_clan.items[datasets_clan.items.Clan==clan]['Duration'], label=clan)\n",
    "plt.legend();\n",
    "plt.title('Duration of coda per clan');"
   ]
  },
  {
   "cell_type": "markdown",
   "metadata": {},
   "source": [
    "This is a significant difference, but still not something that would make the task entirely obvious.\n",
    "\n",
    "Let's learn a bit more about the situation and establish a baseline in the process."
   ]
  },
  {
   "cell_type": "code",
   "execution_count": 6,
   "metadata": {},
   "outputs": [],
   "source": [
    "from sklearn.linear_model import LogisticRegression"
   ]
  },
  {
   "cell_type": "code",
   "execution_count": 7,
   "metadata": {},
   "outputs": [],
   "source": [
    "clf = LogisticRegression(random_state=42).fit(\n",
    "    datasets_clan.items['Duration'].values[datasets_clan.splits[0]].reshape(-1, 1),\n",
    "    datasets_clan.items.Clan.values[datasets_clan.splits[0]]\n",
    ")"
   ]
  },
  {
   "cell_type": "code",
   "execution_count": 8,
   "metadata": {},
   "outputs": [
    {
     "data": {
      "text/plain": [
       "0.7578947368421053"
      ]
     },
     "execution_count": 8,
     "metadata": {},
     "output_type": "execute_result"
    }
   ],
   "source": [
    "clf.score(\n",
    "    datasets_clan.items['Duration'].values[datasets_clan.splits[1]].reshape(-1, 1),\n",
    "    datasets_clan.items.Clan.values[datasets_clan.splits[1]]\n",
    ")"
   ]
  },
  {
   "cell_type": "markdown",
   "metadata": {},
   "source": [
    "We are at 75.7% accuracy, but bear in mind this is with only two classes. Let's see what will happen if we consider only the ICI values."
   ]
  },
  {
   "cell_type": "code",
   "execution_count": 9,
   "metadata": {},
   "outputs": [],
   "source": [
    "clf = LogisticRegression(random_state=42).fit(\n",
    "    np.concatenate((\n",
    "        datasets_clan.items.iloc[:, 4:13].values[datasets_clan.splits[0]],\n",
    "    ), axis=1),\n",
    "    datasets_clan.items.Clan.values[datasets_clan.splits[0]]\n",
    ")"
   ]
  },
  {
   "cell_type": "code",
   "execution_count": 10,
   "metadata": {},
   "outputs": [
    {
     "data": {
      "text/plain": [
       "0.9157894736842105"
      ]
     },
     "execution_count": 10,
     "metadata": {},
     "output_type": "execute_result"
    }
   ],
   "source": [
    "clf.score(\n",
    "    np.concatenate((\n",
    "        datasets_clan.items.iloc[:, 4:13].values[datasets_clan.splits[1]],\n",
    "    ), axis=1),\n",
    "    datasets_clan.items.Clan.values[datasets_clan.splits[1]]\n",
    ")"
   ]
  },
  {
   "cell_type": "markdown",
   "metadata": {},
   "source": [
    "91.6% accuracy. Since the ICIs are roughly of comparable length between all of the clicks, we can look at the weights to gain some understanding which ICI is more characteristic of which class (this analysis could be helped by normalizing the ICI intervals, though the results might be harder to interpret)."
   ]
  },
  {
   "cell_type": "code",
   "execution_count": 11,
   "metadata": {},
   "outputs": [
    {
     "data": {
      "text/plain": [
       "array([0.6217803, 0.6033788, 0.5930743, 0.5883212, 0.374    , 0.3137   ,\n",
       "       0.2153   , 0.2893   , 0.179    ])"
      ]
     },
     "execution_count": 11,
     "metadata": {},
     "output_type": "execute_result"
    }
   ],
   "source": [
    "datasets_clan.items.iloc[:, 4:13].values[datasets_clan.splits[1]].max(0)"
   ]
  },
  {
   "cell_type": "code",
   "execution_count": 12,
   "metadata": {},
   "outputs": [
    {
     "data": {
      "text/plain": [
       "array([[-3.65852064, -2.4368024 , 12.40962588,  9.34368781,  2.37773946,\n",
       "         2.28864823,  1.75728995,  1.51945018,  0.89396356]])"
      ]
     },
     "execution_count": 12,
     "metadata": {},
     "output_type": "execute_result"
    }
   ],
   "source": [
    "clf.coef_"
   ]
  },
  {
   "cell_type": "code",
   "execution_count": 13,
   "metadata": {},
   "outputs": [
    {
     "data": {
      "text/plain": [
       "array(['EC1', 'EC2'], dtype=object)"
      ]
     },
     "execution_count": 13,
     "metadata": {},
     "output_type": "execute_result"
    }
   ],
   "source": [
    "clf.classes_"
   ]
  },
  {
   "cell_type": "markdown",
   "metadata": {},
   "source": [
    "This is very rudimentary but we can start to see that a hallmark of belonging to `EC2` is a longer ICI between the 3rd and the 4th click and the 4th and the 5th."
   ]
  },
  {
   "cell_type": "code",
   "execution_count": 14,
   "metadata": {},
   "outputs": [
    {
     "data": {
      "text/plain": [
       "(0.14706728724973656, 0.27850803024236037)"
      ]
     },
     "execution_count": 14,
     "metadata": {},
     "output_type": "execute_result"
    }
   ],
   "source": [
    "datasets_clan.items.iloc[np.where(datasets_clan.items.Clan == 'EC1')[0], 6].values.mean(), datasets_clan.items.iloc[np.where(datasets_clan.items.Clan == 'EC2')[0], 6].values.mean()"
   ]
  },
  {
   "cell_type": "code",
   "execution_count": 15,
   "metadata": {},
   "outputs": [
    {
     "data": {
      "text/plain": [
       "(0.11971786322444679, 0.26639890031612223)"
      ]
     },
     "execution_count": 15,
     "metadata": {},
     "output_type": "execute_result"
    }
   ],
   "source": [
    "datasets_clan.items.iloc[np.where(datasets_clan.items.Clan == 'EC1')[0], 7].values.mean(), datasets_clan.items.iloc[np.where(datasets_clan.items.Clan == 'EC2')[0], 7].values.mean()"
   ]
  },
  {
   "cell_type": "markdown",
   "metadata": {},
   "source": [
    "Let's try fitting a simple model for predicting CodaType again just on the ICI values."
   ]
  },
  {
   "cell_type": "code",
   "execution_count": 16,
   "metadata": {},
   "outputs": [],
   "source": [
    "clf = LogisticRegression(random_state=42).fit(\n",
    "    np.concatenate((\n",
    "        datasets_clan.items.iloc[:, 4:13].values[datasets_clan.splits[0]],\n",
    "    ), axis=1),\n",
    "    datasets_clan.items.CodaType.factorize()[0][datasets_clan.splits[0]]\n",
    ")"
   ]
  },
  {
   "cell_type": "code",
   "execution_count": 17,
   "metadata": {},
   "outputs": [
    {
     "data": {
      "text/plain": [
       "0.6894736842105263"
      ]
     },
     "execution_count": 17,
     "metadata": {},
     "output_type": "execute_result"
    }
   ],
   "source": [
    "clf.score(\n",
    "    np.concatenate((\n",
    "        datasets_clan.items.iloc[:, 4:13].values[datasets_clan.splits[1]],\n",
    "    ), axis=1),\n",
    "    datasets_clan.items.CodaType.factorize()[0][datasets_clan.splits[1]]\n",
    ")"
   ]
  },
  {
   "cell_type": "markdown",
   "metadata": {},
   "source": [
    "All this gives us some insights into the data and will serve as a good baseline.\n",
    "\n",
    "Let's now reproduce the results from the paper."
   ]
  }
 ],
 "metadata": {
  "kernelspec": {
   "display_name": "Python 3",
   "language": "python",
   "name": "python3"
  },
  "language_info": {
   "codemirror_mode": {
    "name": "ipython",
    "version": 3
   },
   "file_extension": ".py",
   "mimetype": "text/x-python",
   "name": "python",
   "nbconvert_exporter": "python",
   "pygments_lexer": "ipython3",
   "version": "3.7.6"
  }
 },
 "nbformat": 4,
 "nbformat_minor": 4
}
