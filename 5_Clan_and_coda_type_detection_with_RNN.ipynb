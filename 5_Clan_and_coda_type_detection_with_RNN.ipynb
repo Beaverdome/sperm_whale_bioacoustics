{
 "cells": [
  {
   "cell_type": "markdown",
   "metadata": {},
   "source": [
    "# Clan and coda type detection with RNN"
   ]
  },
  {
   "cell_type": "code",
   "execution_count": 1,
   "metadata": {},
   "outputs": [],
   "source": [
    "from sperm_whale_bioacoustics.data import *\n",
    "from sperm_whale_bioacoustics import model_pretrain\n",
    "\n",
    "from fastai2.basics import *\n",
    "from fastai2.learner import *\n",
    "from fastai2.callback.all import *"
   ]
  },
  {
   "cell_type": "markdown",
   "metadata": {},
   "source": [
    "Let's load the pretrained model"
   ]
  },
  {
   "cell_type": "code",
   "execution_count": 2,
   "metadata": {},
   "outputs": [],
   "source": [
    "dls = datasets_clan.dataloaders(bs = 128)\n",
    "learn = Learner(dls, model_pretrain.Model(), loss_func=MSELossFlat())\n",
    "if Path('models').exists(): learn.load('pretrained'); # to accomodate the CI pipeline on github"
   ]
  },
  {
   "cell_type": "markdown",
   "metadata": {},
   "source": [
    "Let's freeze the first layer."
   ]
  },
  {
   "cell_type": "code",
   "execution_count": 3,
   "metadata": {},
   "outputs": [
    {
     "data": {
      "text/plain": [
       "LSTM(1, 256, batch_first=True)"
      ]
     },
     "execution_count": 3,
     "metadata": {},
     "output_type": "execute_result"
    }
   ],
   "source": [
    "learn.model.lstm1.requires_grad_(False)"
   ]
  },
  {
   "cell_type": "markdown",
   "metadata": {},
   "source": [
    "We can manipulate the model in place."
   ]
  },
  {
   "cell_type": "code",
   "execution_count": 5,
   "metadata": {},
   "outputs": [],
   "source": [
    "learn.model.lstm2.reset_parameters()\n",
    "learn.model.lin.reset_parameters()"
   ]
  },
  {
   "cell_type": "code",
   "execution_count": 6,
   "metadata": {},
   "outputs": [],
   "source": [
    "learn.loss_func = BCEWithLogitsLossFlat()"
   ]
  },
  {
   "cell_type": "markdown",
   "metadata": {},
   "source": [
    "And we should be all set to train!"
   ]
  },
  {
   "cell_type": "code",
   "execution_count": 7,
   "metadata": {},
   "outputs": [
    {
     "data": {
      "text/plain": [
       "Model(\n",
       "  (lstm1): LSTM(1, 256, batch_first=True)\n",
       "  (lstm2): LSTM(256, 256, batch_first=True)\n",
       "  (lin): Linear(in_features=256, out_features=1, bias=True)\n",
       ")"
      ]
     },
     "execution_count": 7,
     "metadata": {},
     "output_type": "execute_result"
    }
   ],
   "source": [
    "learn.model.cuda()"
   ]
  },
  {
   "cell_type": "code",
   "execution_count": 8,
   "metadata": {},
   "outputs": [
    {
     "data": {
      "text/plain": [
       "Model (Input shape: ['128 x 9'])\n",
       "================================================================\n",
       "Layer (type)         Output Shape         Param #    Trainable \n",
       "================================================================\n",
       "LSTM                 ['128 x 9 x 256', \"  265,216    False     \n",
       "________________________________________________________________\n",
       "LSTM                 ['128 x 9 x 256', \"  526,336    True      \n",
       "________________________________________________________________\n",
       "Linear               128 x 1              257        True      \n",
       "________________________________________________________________\n",
       "\n",
       "Total params: 791,809\n",
       "Total trainable params: 526,593\n",
       "Total non-trainable params: 265,216\n",
       "\n",
       "Optimizer used: <function Adam at 0x7f157c6ac4d0>\n",
       "Loss function: FlattenedLoss of BCEWithLogitsLoss()\n",
       "\n",
       "Model unfrozen\n",
       "\n",
       "Callbacks:\n",
       "  - TrainEvalCallback\n",
       "  - Recorder\n",
       "  - ProgressCallback"
      ]
     },
     "execution_count": 8,
     "metadata": {},
     "output_type": "execute_result"
    }
   ],
   "source": [
    "learn.summary()"
   ]
  },
  {
   "cell_type": "code",
   "execution_count": 9,
   "metadata": {},
   "outputs": [
    {
     "data": {
      "text/html": [],
      "text/plain": [
       "<IPython.core.display.HTML object>"
      ]
     },
     "metadata": {},
     "output_type": "display_data"
    },
    {
     "data": {
      "text/plain": [
       "(0.33113112449646, 0.43651583790779114)"
      ]
     },
     "execution_count": 9,
     "metadata": {},
     "output_type": "execute_result"
    },
    {
     "data": {
      "image/png": "[encoded data removed]",
      "text/plain": [
       "<Figure size 432x288 with 1 Axes>"
      ]
     },
     "metadata": {
      "needs_background": "light"
     },
     "output_type": "display_data"
    }
   ],
   "source": [
    "learn.lr_find()"
   ]
  },
  {
   "cell_type": "code",
   "execution_count": 19,
   "metadata": {},
   "outputs": [],
   "source": [
    "learn.metrics = [accuracy_multi]"
   ]
  },
  {
   "cell_type": "code",
   "execution_count": 18,
   "metadata": {},
   "outputs": [
    {
     "data": {
      "text/html": [
       "<table border=\"1\" class=\"dataframe\">\n",
       "  <thead>\n",
       "    <tr style=\"text-align: left;\">\n",
       "      <th>epoch</th>\n",
       "      <th>train_loss</th>\n",
       "      <th>valid_loss</th>\n",
       "      <th><lambda></th>\n",
       "      <th>time</th>\n",
       "    </tr>\n",
       "  </thead>\n",
       "  <tbody>\n",
       "    <tr>\n",
       "      <td>0</td>\n",
       "      <td>0.141267</td>\n",
       "      <td>0.185455</td>\n",
       "      <td>0.931579</td>\n",
       "      <td>00:00</td>\n",
       "    </tr>\n",
       "    <tr>\n",
       "      <td>1</td>\n",
       "      <td>0.139791</td>\n",
       "      <td>0.183104</td>\n",
       "      <td>0.936842</td>\n",
       "      <td>00:00</td>\n",
       "    </tr>\n",
       "    <tr>\n",
       "      <td>2</td>\n",
       "      <td>0.141007</td>\n",
       "      <td>0.186374</td>\n",
       "      <td>0.931579</td>\n",
       "      <td>00:00</td>\n",
       "    </tr>\n",
       "  </tbody>\n",
       "</table>"
      ],
      "text/plain": [
       "<IPython.core.display.HTML object>"
      ]
     },
     "metadata": {},
     "output_type": "display_data"
    }
   ],
   "source": [
    "learn.fit(3, 1e-3)"
   ]
  },
  {
   "cell_type": "code",
   "execution_count": 12,
   "metadata": {},
   "outputs": [],
   "source": [
    "learn.unfreeze()"
   ]
  },
  {
   "cell_type": "code",
   "execution_count": 13,
   "metadata": {},
   "outputs": [
    {
     "data": {
      "text/html": [
       "<table border=\"1\" class=\"dataframe\">\n",
       "  <thead>\n",
       "    <tr style=\"text-align: left;\">\n",
       "      <th>epoch</th>\n",
       "      <th>train_loss</th>\n",
       "      <th>valid_loss</th>\n",
       "      <th>accuracy_multi</th>\n",
       "      <th>time</th>\n",
       "    </tr>\n",
       "  </thead>\n",
       "  <tbody>\n",
       "    <tr>\n",
       "      <td>0</td>\n",
       "      <td>0.142108</td>\n",
       "      <td>0.219167</td>\n",
       "      <td>0.915789</td>\n",
       "      <td>00:01</td>\n",
       "    </tr>\n",
       "    <tr>\n",
       "      <td>1</td>\n",
       "      <td>0.166871</td>\n",
       "      <td>0.507633</td>\n",
       "      <td>0.742105</td>\n",
       "      <td>00:01</td>\n",
       "    </tr>\n",
       "    <tr>\n",
       "      <td>2</td>\n",
       "      <td>0.187387</td>\n",
       "      <td>0.254010</td>\n",
       "      <td>0.900000</td>\n",
       "      <td>00:00</td>\n",
       "    </tr>\n",
       "    <tr>\n",
       "      <td>3</td>\n",
       "      <td>0.180389</td>\n",
       "      <td>0.186427</td>\n",
       "      <td>0.931579</td>\n",
       "      <td>00:01</td>\n",
       "    </tr>\n",
       "    <tr>\n",
       "      <td>4</td>\n",
       "      <td>0.166520</td>\n",
       "      <td>0.236148</td>\n",
       "      <td>0.900000</td>\n",
       "      <td>00:01</td>\n",
       "    </tr>\n",
       "    <tr>\n",
       "      <td>5</td>\n",
       "      <td>0.155429</td>\n",
       "      <td>0.198630</td>\n",
       "      <td>0.936842</td>\n",
       "      <td>00:00</td>\n",
       "    </tr>\n",
       "    <tr>\n",
       "      <td>6</td>\n",
       "      <td>0.147592</td>\n",
       "      <td>0.196275</td>\n",
       "      <td>0.931579</td>\n",
       "      <td>00:01</td>\n",
       "    </tr>\n",
       "    <tr>\n",
       "      <td>7</td>\n",
       "      <td>0.141676</td>\n",
       "      <td>0.178532</td>\n",
       "      <td>0.936842</td>\n",
       "      <td>00:00</td>\n",
       "    </tr>\n",
       "    <tr>\n",
       "      <td>8</td>\n",
       "      <td>0.135590</td>\n",
       "      <td>0.179164</td>\n",
       "      <td>0.931579</td>\n",
       "      <td>00:01</td>\n",
       "    </tr>\n",
       "    <tr>\n",
       "      <td>9</td>\n",
       "      <td>0.130743</td>\n",
       "      <td>0.179600</td>\n",
       "      <td>0.931579</td>\n",
       "      <td>00:00</td>\n",
       "    </tr>\n",
       "  </tbody>\n",
       "</table>"
      ],
      "text/plain": [
       "<IPython.core.display.HTML object>"
      ]
     },
     "metadata": {},
     "output_type": "display_data"
    }
   ],
   "source": [
    "learn.fit_one_cycle(10, 1e-2)"
   ]
  },
  {
   "cell_type": "code",
   "execution_count": 71,
   "metadata": {},
   "outputs": [
    {
     "data": {
      "text/html": [],
      "text/plain": [
       "<IPython.core.display.HTML object>"
      ]
     },
     "metadata": {},
     "output_type": "display_data"
    },
    {
     "data": {
      "text/plain": [
       "(tensor([[0.9823],\n",
       "         [0.0835],\n",
       "         [0.9993],\n",
       "         [0.9933],\n",
       "         [0.0438],\n",
       "         [0.9928],\n",
       "         [0.9978],\n",
       "         [0.1162],\n",
       "         [0.0388],\n",
       "         [0.0351],\n",
       "         [0.9942],\n",
       "         [0.9941],\n",
       "         [0.9952],\n",
       "         [0.9888],\n",
       "         [0.9962],\n",
       "         [0.0944],\n",
       "         [0.9506],\n",
       "         [0.1814],\n",
       "         [0.0295],\n",
       "         [0.9880],\n",
       "         [0.0364],\n",
       "         [0.0345],\n",
       "         [0.9873],\n",
       "         [0.9859],\n",
       "         [0.9932],\n",
       "         [0.0776],\n",
       "         [0.0343],\n",
       "         [0.9955],\n",
       "         [0.0387],\n",
       "         [0.0466],\n",
       "         [0.0355],\n",
       "         [0.9956],\n",
       "         [0.0178],\n",
       "         [0.0507],\n",
       "         [0.6275],\n",
       "         [0.0592],\n",
       "         [0.9953],\n",
       "         [0.0346],\n",
       "         [0.9848],\n",
       "         [0.9931],\n",
       "         [0.0225],\n",
       "         [0.0815],\n",
       "         [0.0603],\n",
       "         [0.9946],\n",
       "         [0.0297],\n",
       "         [0.0163],\n",
       "         [0.0623],\n",
       "         [0.9959],\n",
       "         [0.0187],\n",
       "         [0.0616],\n",
       "         [0.0671],\n",
       "         [0.0167],\n",
       "         [0.0361],\n",
       "         [0.0369],\n",
       "         [0.0248],\n",
       "         [0.0867],\n",
       "         [0.0181],\n",
       "         [0.0357],\n",
       "         [0.0232],\n",
       "         [0.0474],\n",
       "         [0.9929],\n",
       "         [0.9954],\n",
       "         [0.2612],\n",
       "         [0.9944],\n",
       "         [0.9807],\n",
       "         [0.0220],\n",
       "         [0.9194],\n",
       "         [0.0363],\n",
       "         [0.0372],\n",
       "         [0.9904],\n",
       "         [0.9956],\n",
       "         [0.8980],\n",
       "         [0.0231],\n",
       "         [0.0624],\n",
       "         [0.9896],\n",
       "         [0.0642],\n",
       "         [0.3312],\n",
       "         [0.0436],\n",
       "         [0.0166],\n",
       "         [0.9926],\n",
       "         [0.8939],\n",
       "         [0.0577],\n",
       "         [0.9945],\n",
       "         [0.0326],\n",
       "         [0.2909],\n",
       "         [0.7741],\n",
       "         [0.9941],\n",
       "         [0.1280],\n",
       "         [0.9811],\n",
       "         [0.0683],\n",
       "         [0.0870],\n",
       "         [0.9969],\n",
       "         [0.0277],\n",
       "         [0.9895],\n",
       "         [0.2462],\n",
       "         [0.0312],\n",
       "         [0.9905],\n",
       "         [0.8999],\n",
       "         [0.9959],\n",
       "         [0.9913],\n",
       "         [0.0235],\n",
       "         [0.9845],\n",
       "         [0.9707],\n",
       "         [0.9921],\n",
       "         [0.0166],\n",
       "         [0.1287],\n",
       "         [0.0357],\n",
       "         [0.9803],\n",
       "         [0.9966],\n",
       "         [0.0175],\n",
       "         [0.0842],\n",
       "         [0.0318],\n",
       "         [0.0336],\n",
       "         [0.0176],\n",
       "         [0.9964],\n",
       "         [0.9954],\n",
       "         [0.8496],\n",
       "         [0.9606],\n",
       "         [0.9427],\n",
       "         [0.9962],\n",
       "         [0.0165],\n",
       "         [0.9917],\n",
       "         [0.9935],\n",
       "         [0.9900],\n",
       "         [0.6870],\n",
       "         [0.9312],\n",
       "         [0.9821],\n",
       "         [0.2128],\n",
       "         [0.6144],\n",
       "         [0.0335],\n",
       "         [0.0771],\n",
       "         [0.9962],\n",
       "         [0.0171],\n",
       "         [0.1474],\n",
       "         [0.0314],\n",
       "         [0.0222],\n",
       "         [0.0389],\n",
       "         [0.0457],\n",
       "         [0.0354],\n",
       "         [0.0168],\n",
       "         [0.0163],\n",
       "         [0.0311],\n",
       "         [0.3166],\n",
       "         [0.0178],\n",
       "         [0.9985],\n",
       "         [0.0748],\n",
       "         [0.0473],\n",
       "         [0.9969],\n",
       "         [0.9899],\n",
       "         [0.0345],\n",
       "         [0.9477],\n",
       "         [0.0173],\n",
       "         [0.9772],\n",
       "         [0.0370],\n",
       "         [0.1079],\n",
       "         [0.2286],\n",
       "         [0.9779],\n",
       "         [0.9996],\n",
       "         [0.9933],\n",
       "         [0.0418],\n",
       "         [0.9569],\n",
       "         [0.9937],\n",
       "         [0.9875],\n",
       "         [0.0409],\n",
       "         [0.9928],\n",
       "         [0.9977],\n",
       "         [0.9871],\n",
       "         [0.9899],\n",
       "         [0.0297],\n",
       "         [0.9790],\n",
       "         [0.0308],\n",
       "         [0.9958],\n",
       "         [0.9955],\n",
       "         [0.0399],\n",
       "         [0.0410],\n",
       "         [0.0701],\n",
       "         [0.1728],\n",
       "         [0.0434],\n",
       "         [0.9901],\n",
       "         [0.1849],\n",
       "         [0.9243],\n",
       "         [0.1393],\n",
       "         [0.0177],\n",
       "         [0.1212],\n",
       "         [0.9476],\n",
       "         [0.2264],\n",
       "         [0.9855],\n",
       "         [0.3232],\n",
       "         [0.0353],\n",
       "         [0.1215]]),\n",
       " TensorCategory([1, 0, 1, 1, 0, 1, 1, 0, 0, 0, 1, 1, 1, 1, 1, 0, 1, 0, 0, 1, 0, 0, 1, 1,\n",
       "         1, 0, 0, 1, 0, 0, 0, 1, 0, 0, 1, 0, 1, 0, 1, 1, 0, 0, 1, 1, 0, 0, 1, 1,\n",
       "         0, 0, 0, 0, 0, 0, 0, 0, 0, 0, 0, 0, 1, 1, 0, 1, 1, 0, 1, 0, 1, 1, 1, 1,\n",
       "         0, 0, 1, 1, 0, 0, 0, 1, 1, 0, 1, 0, 1, 1, 1, 0, 1, 0, 0, 1, 0, 1, 0, 0,\n",
       "         1, 1, 1, 1, 0, 1, 1, 1, 0, 1, 0, 1, 1, 0, 0, 0, 0, 0, 1, 1, 1, 1, 1, 1,\n",
       "         0, 1, 1, 1, 0, 1, 1, 0, 1, 0, 0, 1, 0, 1, 0, 0, 0, 0, 0, 0, 0, 0, 1, 0,\n",
       "         1, 0, 0, 1, 1, 0, 1, 0, 1, 0, 1, 0, 1, 1, 1, 1, 1, 1, 1, 0, 1, 1, 1, 1,\n",
       "         0, 1, 0, 1, 1, 0, 0, 0, 0, 0, 1, 0, 1, 0, 0, 0, 1, 0, 1, 1, 0, 0]))"
      ]
     },
     "execution_count": 71,
     "metadata": {},
     "output_type": "execute_result"
    }
   ],
   "source": [
    "learn.get_preds()"
   ]
  },
  {
   "cell_type": "code",
   "execution_count": 12,
   "metadata": {},
   "outputs": [
    {
     "data": {
      "text/plain": [
       "torch.Size([128, 9])"
      ]
     },
     "execution_count": 12,
     "metadata": {},
     "output_type": "execute_result"
    }
   ],
   "source": [
    "learn.dls.train.one_batch()[0].shape"
   ]
  }
 ],
 "metadata": {
  "kernelspec": {
   "display_name": "Python 3",
   "language": "python",
   "name": "python3"
  },
  "language_info": {
   "codemirror_mode": {
    "name": "ipython",
    "version": 3
   },
   "file_extension": ".py",
   "mimetype": "text/x-python",
   "name": "python",
   "nbconvert_exporter": "python",
   "pygments_lexer": "ipython3",
   "version": "3.7.6"
  }
 },
 "nbformat": 4,
 "nbformat_minor": 4
}
